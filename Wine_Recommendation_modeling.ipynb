{
 "cells": [
  {
   "cell_type": "code",
   "execution_count": 10,
   "metadata": {
    "ExecuteTime": {
     "end_time": "2020-10-28T04:39:18.560238Z",
     "start_time": "2020-10-28T04:39:17.514661Z"
    }
   },
   "outputs": [],
   "source": [
    "# scrapy\n",
    "\n",
    "import scrapy\n",
    "import requests\n",
    "from scrapy.http import TextResponse"
   ]
  },
  {
   "cell_type": "code",
   "execution_count": 11,
   "metadata": {
    "ExecuteTime": {
     "end_time": "2020-10-28T04:39:18.763445Z",
     "start_time": "2020-10-28T04:39:18.752106Z"
    }
   },
   "outputs": [
    {
     "data": {
      "text/plain": [
       "'\\npages = 43\\n\\nresult = []\\n\\nfor i in range(pages):\\n    url = \"http://www.wine.co.kr/wine/mine?p={}\".format(i)\\n    req = requests.get(url)\\n    response = TextResponse(req.url, body=req.text, encoding = \"utf-8\")\\n    links = response.xpath(\\'//*[@id=\"content\"]/div/div[2]/ul/li/div[4]/div[2]/a/@href\\').extract()\\n    \\n    for n in range(len(links)):\\n        datas = \\'http://www.wine.co.kr\\' + links[n]\\n    \\n        req = requests.get(datas)\\n        response = TextResponse(req.url, body=req.text, encoding = \"utf-8\")\\n        try:\\n            result.append({\\n                \"title\": response.xpath(\\'//*[@id=\"content\"]/div/section/div[1]/div[2]/h1/text()\\')[0].extract(),\\n                \"img_link\": \\'http://www.wine.co.kr\\' + response.xpath(\\'//*[@id=\"wineMainImage\"]/@src\\')[0].extract(),\\n                \"alcohol\": response.xpath(\\'//*[@id=\"content\"]/div/section/div[1]/div[2]/div[2]/ul/li[1]/strong/span/text()\\')[0].extract(),\\n                \"size\": response.xpath(\\'//*[@id=\"content\"]/div/section/div[1]/div[2]/div[2]/ul/li[2]/strong/span/text()\\')[0].extract(),\\n                \"wine_type\": response.xpath(\\'//*[@id=\"content\"]/div/section/div[1]/div[2]/div[2]/ul/li[3]/strong/span/text()\\')[0].extract(), \\n                \\'sparkling\\' : response.xpath(\\'//*[@id=\"content\"]/div/section/div[1]/div[2]/div[2]/ul/li[4]/strong/span/text()\\')[0].extract(), \\n                \"sweetness\": response.xpath(\\'//*[@id=\"content\"]/div/section/div[1]/div[2]/div[2]/ul/li[5]/strong/span/text()\\')[0].extract(),\\n                \"grape_type\": response.xpath(\\'//*[@id=\"content\"]/div/section/div[3]/div[1]/dl[1]/dd/text()\\')[1].extract().strip(), \\n                \"country\": response.xpath(\\'//*[@id=\"content\"]/div/section/div[3]/div[2]/dl[1]/dd/text()\\')[1].extract().strip(),\\n                \"aroma\": response.xpath(\\'//*[@id=\"content\"]/div/section/div[3]/div[3]/dl[1]/dd/text()\\')[1].extract().strip(),\\n                \"flavor\": response.xpath(\\'//*[@id=\"content\"]/div/section/div[3]/div[4]/dl[1]/dd/text()\\')[1].extract().strip(),\\n                \"winery\": response.xpath(\\'//*[@id=\"content\"]/div/section/div[3]/div[1]/dl[2]/dd/text()\\')[1].extract().strip(),\\n                \\'color\\' : response.xpath(\\'//*[@id=\"content\"]/div/section/div[3]/div[2]/dl[2]/dd/text()\\')[1].extract().strip(),\\n                \"food_pairing\": response.xpath(\\'//*[@id=\"content\"]/div/section/div[3]/div[3]/dl[2]/dd/text()\\')[1].extract().strip(), \\n                \"charms\": response.xpath(\\'//*[@id=\"content\"]/div/section/div[3]/div[4]/dl[2]/dd/text()\\')[1].extract().strip(),\\n                \\'link\\' : datas\\n        })\\n        except:\\n            result.append({\\n                \"title\": response.xpath(\\'//*[@id=\"content\"]/div/section/div[1]/div[2]/h1/text()\\')[0].extract(),\\n                \"img_link\": \\'http://www.wine.co.kr\\' + response.xpath(\\'//*[@id=\"wineMainImage\"]/@src\\')[0].extract(),\\n                \"alcohol\": response.xpath(\\'//*[@id=\"content\"]/div/section/div[1]/div[2]/div[2]/ul/li[1]/strong/span/text()\\')[0].extract(),\\n                \"size\": 0,\\n                \"wine_type\": response.xpath(\\'//*[@id=\"content\"]/div/section/div[1]/div[2]/div[2]/ul/li[3]/strong/span/text()\\')[0].extract(), \\n                \\'sparkling\\' : response.xpath(\\'//*[@id=\"content\"]/div/section/div[1]/div[2]/div[2]/ul/li[4]/strong/span/text()\\')[0].extract(), \\n                \"sweetness\": response.xpath(\\'//*[@id=\"content\"]/div/section/div[1]/div[2]/div[2]/ul/li[5]/strong/span/text()\\')[0].extract(),\\n                \"grape_type\": response.xpath(\\'//*[@id=\"content\"]/div/section/div[3]/div[1]/dl[1]/dd/text()\\')[1].extract().strip(), \\n                \"country\": response.xpath(\\'//*[@id=\"content\"]/div/section/div[3]/div[2]/dl[1]/dd/text()\\')[1].extract().strip(),\\n                \"aroma\": response.xpath(\\'//*[@id=\"content\"]/div/section/div[3]/div[3]/dl[1]/dd/text()\\')[1].extract().strip(),\\n                \"flavor\": response.xpath(\\'//*[@id=\"content\"]/div/section/div[3]/div[4]/dl[1]/dd/text()\\')[1].extract().strip(),\\n                \"winery\": response.xpath(\\'//*[@id=\"content\"]/div/section/div[3]/div[1]/dl[2]/dd/text()\\')[1].extract().strip(),\\n                \\'color\\' : response.xpath(\\'//*[@id=\"content\"]/div/section/div[3]/div[2]/dl[2]/dd/text()\\')[1].extract().strip(),\\n                \"food_pairing\": response.xpath(\\'//*[@id=\"content\"]/div/section/div[3]/div[3]/dl[2]/dd/text()\\')[1].extract().strip(), \\n                \"charms\": response.xpath(\\'//*[@id=\"content\"]/div/section/div[3]/div[4]/dl[2]/dd/text()\\')[1].extract().strip(),\\n                \\'link\\' : datas\\n        })\\n            \\n\\nitems_df = pd.DataFrame(result)\\nitems_df.tail(2)\\n'"
      ]
     },
     "execution_count": 11,
     "metadata": {},
     "output_type": "execute_result"
    }
   ],
   "source": [
    "# 크롤링 코드\n",
    "'''\n",
    "pages = 43\n",
    "\n",
    "result = []\n",
    "\n",
    "for i in range(pages):\n",
    "    url = \"http://www.wine.co.kr/wine/mine?p={}\".format(i)\n",
    "    req = requests.get(url)\n",
    "    response = TextResponse(req.url, body=req.text, encoding = \"utf-8\")\n",
    "    links = response.xpath('//*[@id=\"content\"]/div/div[2]/ul/li/div[4]/div[2]/a/@href').extract()\n",
    "    \n",
    "    for n in range(len(links)):\n",
    "        datas = 'http://www.wine.co.kr' + links[n]\n",
    "    \n",
    "        req = requests.get(datas)\n",
    "        response = TextResponse(req.url, body=req.text, encoding = \"utf-8\")\n",
    "        try:\n",
    "            result.append({\n",
    "                \"title\": response.xpath('//*[@id=\"content\"]/div/section/div[1]/div[2]/h1/text()')[0].extract(),\n",
    "                \"img_link\": 'http://www.wine.co.kr' + response.xpath('//*[@id=\"wineMainImage\"]/@src')[0].extract(),\n",
    "                \"alcohol\": response.xpath('//*[@id=\"content\"]/div/section/div[1]/div[2]/div[2]/ul/li[1]/strong/span/text()')[0].extract(),\n",
    "                \"size\": response.xpath('//*[@id=\"content\"]/div/section/div[1]/div[2]/div[2]/ul/li[2]/strong/span/text()')[0].extract(),\n",
    "                \"wine_type\": response.xpath('//*[@id=\"content\"]/div/section/div[1]/div[2]/div[2]/ul/li[3]/strong/span/text()')[0].extract(), \n",
    "                'sparkling' : response.xpath('//*[@id=\"content\"]/div/section/div[1]/div[2]/div[2]/ul/li[4]/strong/span/text()')[0].extract(), \n",
    "                \"sweetness\": response.xpath('//*[@id=\"content\"]/div/section/div[1]/div[2]/div[2]/ul/li[5]/strong/span/text()')[0].extract(),\n",
    "                \"grape_type\": response.xpath('//*[@id=\"content\"]/div/section/div[3]/div[1]/dl[1]/dd/text()')[1].extract().strip(), \n",
    "                \"country\": response.xpath('//*[@id=\"content\"]/div/section/div[3]/div[2]/dl[1]/dd/text()')[1].extract().strip(),\n",
    "                \"aroma\": response.xpath('//*[@id=\"content\"]/div/section/div[3]/div[3]/dl[1]/dd/text()')[1].extract().strip(),\n",
    "                \"flavor\": response.xpath('//*[@id=\"content\"]/div/section/div[3]/div[4]/dl[1]/dd/text()')[1].extract().strip(),\n",
    "                \"winery\": response.xpath('//*[@id=\"content\"]/div/section/div[3]/div[1]/dl[2]/dd/text()')[1].extract().strip(),\n",
    "                'color' : response.xpath('//*[@id=\"content\"]/div/section/div[3]/div[2]/dl[2]/dd/text()')[1].extract().strip(),\n",
    "                \"food_pairing\": response.xpath('//*[@id=\"content\"]/div/section/div[3]/div[3]/dl[2]/dd/text()')[1].extract().strip(), \n",
    "                \"charms\": response.xpath('//*[@id=\"content\"]/div/section/div[3]/div[4]/dl[2]/dd/text()')[1].extract().strip(),\n",
    "                'link' : datas\n",
    "        })\n",
    "        except:\n",
    "            result.append({\n",
    "                \"title\": response.xpath('//*[@id=\"content\"]/div/section/div[1]/div[2]/h1/text()')[0].extract(),\n",
    "                \"img_link\": 'http://www.wine.co.kr' + response.xpath('//*[@id=\"wineMainImage\"]/@src')[0].extract(),\n",
    "                \"alcohol\": response.xpath('//*[@id=\"content\"]/div/section/div[1]/div[2]/div[2]/ul/li[1]/strong/span/text()')[0].extract(),\n",
    "                \"size\": 0,\n",
    "                \"wine_type\": response.xpath('//*[@id=\"content\"]/div/section/div[1]/div[2]/div[2]/ul/li[3]/strong/span/text()')[0].extract(), \n",
    "                'sparkling' : response.xpath('//*[@id=\"content\"]/div/section/div[1]/div[2]/div[2]/ul/li[4]/strong/span/text()')[0].extract(), \n",
    "                \"sweetness\": response.xpath('//*[@id=\"content\"]/div/section/div[1]/div[2]/div[2]/ul/li[5]/strong/span/text()')[0].extract(),\n",
    "                \"grape_type\": response.xpath('//*[@id=\"content\"]/div/section/div[3]/div[1]/dl[1]/dd/text()')[1].extract().strip(), \n",
    "                \"country\": response.xpath('//*[@id=\"content\"]/div/section/div[3]/div[2]/dl[1]/dd/text()')[1].extract().strip(),\n",
    "                \"aroma\": response.xpath('//*[@id=\"content\"]/div/section/div[3]/div[3]/dl[1]/dd/text()')[1].extract().strip(),\n",
    "                \"flavor\": response.xpath('//*[@id=\"content\"]/div/section/div[3]/div[4]/dl[1]/dd/text()')[1].extract().strip(),\n",
    "                \"winery\": response.xpath('//*[@id=\"content\"]/div/section/div[3]/div[1]/dl[2]/dd/text()')[1].extract().strip(),\n",
    "                'color' : response.xpath('//*[@id=\"content\"]/div/section/div[3]/div[2]/dl[2]/dd/text()')[1].extract().strip(),\n",
    "                \"food_pairing\": response.xpath('//*[@id=\"content\"]/div/section/div[3]/div[3]/dl[2]/dd/text()')[1].extract().strip(), \n",
    "                \"charms\": response.xpath('//*[@id=\"content\"]/div/section/div[3]/div[4]/dl[2]/dd/text()')[1].extract().strip(),\n",
    "                'link' : datas\n",
    "        })\n",
    "            \n",
    "\n",
    "items_df = pd.DataFrame(result)\n",
    "items_df.tail(2)\n",
    "'''"
   ]
  },
  {
   "cell_type": "code",
   "execution_count": 33,
   "metadata": {
    "ExecuteTime": {
     "end_time": "2020-10-28T04:56:16.280530Z",
     "start_time": "2020-10-28T04:56:16.184119Z"
    }
   },
   "outputs": [
    {
     "data": {
      "text/html": [
       "<div>\n",
       "<style scoped>\n",
       "    .dataframe tbody tr th:only-of-type {\n",
       "        vertical-align: middle;\n",
       "    }\n",
       "\n",
       "    .dataframe tbody tr th {\n",
       "        vertical-align: top;\n",
       "    }\n",
       "\n",
       "    .dataframe thead th {\n",
       "        text-align: right;\n",
       "    }\n",
       "</style>\n",
       "<table border=\"1\" class=\"dataframe\">\n",
       "  <thead>\n",
       "    <tr style=\"text-align: right;\">\n",
       "      <th></th>\n",
       "      <th>img_link</th>\n",
       "      <th>alcohol</th>\n",
       "      <th>size</th>\n",
       "      <th>wine_type</th>\n",
       "      <th>sparkling</th>\n",
       "      <th>sweetness</th>\n",
       "      <th>grape_type</th>\n",
       "      <th>country</th>\n",
       "      <th>aroma</th>\n",
       "      <th>flavor</th>\n",
       "      <th>winery</th>\n",
       "      <th>color</th>\n",
       "      <th>food_pairing</th>\n",
       "      <th>charms</th>\n",
       "      <th>link</th>\n",
       "      <th>price_range</th>\n",
       "    </tr>\n",
       "  </thead>\n",
       "  <tbody>\n",
       "    <tr>\n",
       "      <th>0</th>\n",
       "      <td>http://www.wine.co.kr/upload/products/wineList...</td>\n",
       "      <td>2.0%</td>\n",
       "      <td>750ml</td>\n",
       "      <td>White</td>\n",
       "      <td>Still</td>\n",
       "      <td>Sweet</td>\n",
       "      <td>모스카토</td>\n",
       "      <td>이태리, 피에몬테, 아스티</td>\n",
       "      <td>상큼하고 매력적인 아로마</td>\n",
       "      <td>깨끗한 모스카토의 아로마가 정교한 과일향과 조화를 잘 이뤄 여성 뿐만 아니라, 모든...</td>\n",
       "      <td>산테로</td>\n",
       "      <td>녹색빛이 도는 밝은 밀짚색</td>\n",
       "      <td>대부분의 서양음식 뿐만 아니라, 한국음식과도 잘 매칭 됩니다.</td>\n",
       "      <td>2% 모스카토는 신의물방울에 소개된 피에몬테 아스티 지역의 세계적인 와이너리</td>\n",
       "      <td>http://www.wine.co.kr/wine/349</td>\n",
       "      <td>0~2만원</td>\n",
       "    </tr>\n",
       "    <tr>\n",
       "      <th>1</th>\n",
       "      <td>http://www.wine.co.kr/upload/products/wineList...</td>\n",
       "      <td>11.0%</td>\n",
       "      <td>750ml</td>\n",
       "      <td>Red</td>\n",
       "      <td>Still</td>\n",
       "      <td>Semi Sweet</td>\n",
       "      <td>기타</td>\n",
       "      <td>스페인, 발데빼냐스</td>\n",
       "      <td>신선한 과일의 아로마</td>\n",
       "      <td>부드러운 탄닌의 밸런스와 부드러운 여운을 보여주는 이 와인은 달콤한 맛이 잘 살아 ...</td>\n",
       "      <td>Felix Solis</td>\n",
       "      <td>바이올렛의 컬러가 살짝 감도는 반짝이는 루비색</td>\n",
       "      <td>파스타, 가금류, 육류</td>\n",
       "      <td>합리적인 가격과 부담없는 맛으로 인기 있는 스페인 와인</td>\n",
       "      <td>http://www.wine.co.kr/wine/240</td>\n",
       "      <td>0~2만원</td>\n",
       "    </tr>\n",
       "    <tr>\n",
       "      <th>2</th>\n",
       "      <td>http://www.wine.co.kr/upload/products/wineList...</td>\n",
       "      <td>10.5%</td>\n",
       "      <td>750ml</td>\n",
       "      <td>White</td>\n",
       "      <td>Still</td>\n",
       "      <td>Semi Sweet</td>\n",
       "      <td>기타</td>\n",
       "      <td>스페인, 발데빼냐스</td>\n",
       "      <td>각종 꽃과 열대 과일의 아로마</td>\n",
       "      <td>드라이하지 않고 단맛이 잘 살아 있는 미디엄 스위트 와인으로 일상적이고 캐쥬얼한 자...</td>\n",
       "      <td>Felix Solis</td>\n",
       "      <td>신선한 레몬칼라</td>\n",
       "      <td>생선 및 각종 해산물 요리, 샐러드</td>\n",
       "      <td>합리적인 가격과 부담 없는 맛으로 인기 있는 스페인 와인</td>\n",
       "      <td>http://www.wine.co.kr/wine/241</td>\n",
       "      <td>0~2만원</td>\n",
       "    </tr>\n",
       "    <tr>\n",
       "      <th>3</th>\n",
       "      <td>http://www.wine.co.kr/upload/products/wineList...</td>\n",
       "      <td>13.0%</td>\n",
       "      <td>750ml</td>\n",
       "      <td>Red</td>\n",
       "      <td>Still</td>\n",
       "      <td>Dry</td>\n",
       "      <td>카버네 소비뇽, 멜롯, 기타</td>\n",
       "      <td>프랑스, 보르도, 오메독</td>\n",
       "      <td>붉은 과실향,약간의 흙내음</td>\n",
       "      <td>둥글고 과일향이 풍부하며 산도와 탄닌의 적절한 균형감</td>\n",
       "      <td>La Passion</td>\n",
       "      <td>짙은 루비빛</td>\n",
       "      <td>각종 고기류, 치즈, 각종 이태리 요리 (스파게티) 등</td>\n",
       "      <td>전형적인 보르도의 클래식한 스타일로 선물용으로도 손색없는 와인이다.</td>\n",
       "      <td>http://www.wine.co.kr/wine/477</td>\n",
       "      <td>9~15만원</td>\n",
       "    </tr>\n",
       "    <tr>\n",
       "      <th>4</th>\n",
       "      <td>http://www.wine.co.kr/upload/products/wineList...</td>\n",
       "      <td>13.0%</td>\n",
       "      <td>750ml</td>\n",
       "      <td>Red</td>\n",
       "      <td>Still</td>\n",
       "      <td>Dry</td>\n",
       "      <td>카버네 소비뇽</td>\n",
       "      <td>프랑스, 랑귀독</td>\n",
       "      <td>블루베리 아로마가 처음 코에 와 닿으며 적색과일과 함께후추 등의 향신료향이 느껴진다.</td>\n",
       "      <td>까버네 소비뇽 특유의 탄닌과 산도 그리고 잘 짜여진 구조감으로 마무리 지어진다. 친...</td>\n",
       "      <td>홉노브</td>\n",
       "      <td>짙은 루비빛</td>\n",
       "      <td>구운고기, 불고기, 각종 고기 및 치즈류 등</td>\n",
       "      <td>Casual스타일의 Easy-Drink 프랑스 와인</td>\n",
       "      <td>http://www.wine.co.kr/wine/449</td>\n",
       "      <td>0~2만원</td>\n",
       "    </tr>\n",
       "    <tr>\n",
       "      <th>...</th>\n",
       "      <td>...</td>\n",
       "      <td>...</td>\n",
       "      <td>...</td>\n",
       "      <td>...</td>\n",
       "      <td>...</td>\n",
       "      <td>...</td>\n",
       "      <td>...</td>\n",
       "      <td>...</td>\n",
       "      <td>...</td>\n",
       "      <td>...</td>\n",
       "      <td>...</td>\n",
       "      <td>...</td>\n",
       "      <td>...</td>\n",
       "      <td>...</td>\n",
       "      <td>...</td>\n",
       "      <td>...</td>\n",
       "    </tr>\n",
       "    <tr>\n",
       "      <th>511</th>\n",
       "      <td>http://www.wine.co.kr/upload/products/wineList...</td>\n",
       "      <td>13.0%</td>\n",
       "      <td>750ml</td>\n",
       "      <td>White</td>\n",
       "      <td>Still</td>\n",
       "      <td>Dry</td>\n",
       "      <td>기타</td>\n",
       "      <td>프랑스, 부르고뉴 ,샤블리</td>\n",
       "      <td>레몬, 시트러스향, 부싯돌향</td>\n",
       "      <td>O</td>\n",
       "      <td>Joseph Drouhin</td>\n",
       "      <td>밝은 황금빛</td>\n",
       "      <td>O</td>\n",
       "      <td>부르고뉴의 명가 조셉드루앙은 화이트 와인에 강한 자부심을 가지고 있으며 이를 단적으...</td>\n",
       "      <td>http://www.wine.co.kr/wine/472</td>\n",
       "      <td>4~9만원</td>\n",
       "    </tr>\n",
       "    <tr>\n",
       "      <th>512</th>\n",
       "      <td>http://www.wine.co.kr/upload/products/wineList...</td>\n",
       "      <td>13.0%</td>\n",
       "      <td>750ml</td>\n",
       "      <td>White</td>\n",
       "      <td>Still</td>\n",
       "      <td>Dry</td>\n",
       "      <td>샤도네이</td>\n",
       "      <td>프랑스, 부르고뉴 ,샤블리</td>\n",
       "      <td>전형적인 샤블리 향, 약간의 소금기도 느껴진다</td>\n",
       "      <td>힘차면서도 발랄하며 동시에 정교함과 균형감이 느껴짐</td>\n",
       "      <td>Joseph Drouhin</td>\n",
       "      <td>밝은 황금빛</td>\n",
       "      <td>신선한 샐러드, 연어, 각종 해산물 요리 등</td>\n",
       "      <td>부르고뉴의 명가 조셉드루앙은 화이트 와인을 잘 만들어 내기로 유명하며 샤블리 화이트...</td>\n",
       "      <td>http://www.wine.co.kr/wine/469</td>\n",
       "      <td>4~9만원</td>\n",
       "    </tr>\n",
       "    <tr>\n",
       "      <th>513</th>\n",
       "      <td>http://www.wine.co.kr/upload/products/wineList...</td>\n",
       "      <td>13.0%</td>\n",
       "      <td>750ml</td>\n",
       "      <td>White</td>\n",
       "      <td>Still</td>\n",
       "      <td>Dry</td>\n",
       "      <td>샤도네이</td>\n",
       "      <td>프랑스, 부르고뉴 ,샤블리</td>\n",
       "      <td>흰꽃, 아스파라거스, 약간의 꿀향</td>\n",
       "      <td>O</td>\n",
       "      <td>Joseph Drouhin</td>\n",
       "      <td>밝은 황금빛</td>\n",
       "      <td>신선한 샐러드, 연어, 각종 해산물 요리 등</td>\n",
       "      <td>부르고뉴의 명가 조셉드루앙은 화이트 와인을 잘 만들어 내기로 유명하며 샤블리 화이트...</td>\n",
       "      <td>http://www.wine.co.kr/wine/470</td>\n",
       "      <td>4~9만원</td>\n",
       "    </tr>\n",
       "    <tr>\n",
       "      <th>514</th>\n",
       "      <td>http://www.wine.co.kr/upload/products/wineList...</td>\n",
       "      <td>13.0%</td>\n",
       "      <td>750ml</td>\n",
       "      <td>Red</td>\n",
       "      <td>Still</td>\n",
       "      <td>Dry</td>\n",
       "      <td>피노누아</td>\n",
       "      <td>프랑스, 부르고뉴, 꼬뜨 드 본</td>\n",
       "      <td>잘 익은 붉은 과실향</td>\n",
       "      <td>잘 익은 베리류의 과일맛과 약간의 버섯향과 함께 롱 피니쉬가 특징이다.</td>\n",
       "      <td>Joseph Drouhin</td>\n",
       "      <td>밝은 석류빛</td>\n",
       "      <td>소스에 절인 고기류, 매운 한국 음식, 진한 치즈 등</td>\n",
       "      <td>최상의 빈티지 2009년산으로 샤샤뉴몽라쉐 화이트만큼 유명</td>\n",
       "      <td>http://www.wine.co.kr/wine/471</td>\n",
       "      <td>4~9만원</td>\n",
       "    </tr>\n",
       "    <tr>\n",
       "      <th>515</th>\n",
       "      <td>http://www.wine.co.kr/upload/products/wineList...</td>\n",
       "      <td>13.0%</td>\n",
       "      <td>750ml</td>\n",
       "      <td>White</td>\n",
       "      <td>Still</td>\n",
       "      <td>Dry</td>\n",
       "      <td>샤도네이</td>\n",
       "      <td>프랑스, 부르고뉴, 꼬뜨 드 본</td>\n",
       "      <td>구운 레몬, 약간의 꽃향기, 구운 헤이즐넛, 향신료 향</td>\n",
       "      <td>입안 머금자마자 바로 신선한 산도가 느껴지며 꽃향기와 약간의 생강 맛이 느껴진다</td>\n",
       "      <td>Joseph Drouhin</td>\n",
       "      <td>밝은 황금색</td>\n",
       "      <td>신선한 굴, 회, 각종 해산물 등</td>\n",
       "      <td>부르고뉴의 명가 조셉드루앙은 화이트 와인을 잘 만들어 내기로 유명하다.</td>\n",
       "      <td>http://www.wine.co.kr/wine/467</td>\n",
       "      <td>4~9만원</td>\n",
       "    </tr>\n",
       "  </tbody>\n",
       "</table>\n",
       "<p>516 rows × 16 columns</p>\n",
       "</div>"
      ],
      "text/plain": [
       "                                              img_link alcohol   size  \\\n",
       "0    http://www.wine.co.kr/upload/products/wineList...    2.0%  750ml   \n",
       "1    http://www.wine.co.kr/upload/products/wineList...   11.0%  750ml   \n",
       "2    http://www.wine.co.kr/upload/products/wineList...   10.5%  750ml   \n",
       "3    http://www.wine.co.kr/upload/products/wineList...   13.0%  750ml   \n",
       "4    http://www.wine.co.kr/upload/products/wineList...   13.0%  750ml   \n",
       "..                                                 ...     ...    ...   \n",
       "511  http://www.wine.co.kr/upload/products/wineList...   13.0%  750ml   \n",
       "512  http://www.wine.co.kr/upload/products/wineList...   13.0%  750ml   \n",
       "513  http://www.wine.co.kr/upload/products/wineList...   13.0%  750ml   \n",
       "514  http://www.wine.co.kr/upload/products/wineList...   13.0%  750ml   \n",
       "515  http://www.wine.co.kr/upload/products/wineList...   13.0%  750ml   \n",
       "\n",
       "    wine_type sparkling   sweetness       grape_type            country  \\\n",
       "0       White     Still       Sweet             모스카토     이태리, 피에몬테, 아스티   \n",
       "1         Red     Still  Semi Sweet               기타         스페인, 발데빼냐스   \n",
       "2       White     Still  Semi Sweet               기타         스페인, 발데빼냐스   \n",
       "3         Red     Still         Dry  카버네 소비뇽, 멜롯, 기타      프랑스, 보르도, 오메독   \n",
       "4         Red     Still         Dry          카버네 소비뇽           프랑스, 랑귀독   \n",
       "..        ...       ...         ...              ...                ...   \n",
       "511     White     Still         Dry               기타     프랑스, 부르고뉴 ,샤블리   \n",
       "512     White     Still         Dry             샤도네이     프랑스, 부르고뉴 ,샤블리   \n",
       "513     White     Still         Dry             샤도네이     프랑스, 부르고뉴 ,샤블리   \n",
       "514       Red     Still         Dry             피노누아  프랑스, 부르고뉴, 꼬뜨 드 본   \n",
       "515     White     Still         Dry             샤도네이  프랑스, 부르고뉴, 꼬뜨 드 본   \n",
       "\n",
       "                                               aroma  \\\n",
       "0                                      상큼하고 매력적인 아로마   \n",
       "1                                        신선한 과일의 아로마   \n",
       "2                                   각종 꽃과 열대 과일의 아로마   \n",
       "3                                     붉은 과실향,약간의 흙내음   \n",
       "4    블루베리 아로마가 처음 코에 와 닿으며 적색과일과 함께후추 등의 향신료향이 느껴진다.   \n",
       "..                                               ...   \n",
       "511                                  레몬, 시트러스향, 부싯돌향   \n",
       "512                        전형적인 샤블리 향, 약간의 소금기도 느껴진다   \n",
       "513                               흰꽃, 아스파라거스, 약간의 꿀향   \n",
       "514                                      잘 익은 붉은 과실향   \n",
       "515                   구운 레몬, 약간의 꽃향기, 구운 헤이즐넛, 향신료 향   \n",
       "\n",
       "                                                flavor          winery  \\\n",
       "0    깨끗한 모스카토의 아로마가 정교한 과일향과 조화를 잘 이뤄 여성 뿐만 아니라, 모든...             산테로   \n",
       "1    부드러운 탄닌의 밸런스와 부드러운 여운을 보여주는 이 와인은 달콤한 맛이 잘 살아 ...     Felix Solis   \n",
       "2    드라이하지 않고 단맛이 잘 살아 있는 미디엄 스위트 와인으로 일상적이고 캐쥬얼한 자...     Felix Solis   \n",
       "3                        둥글고 과일향이 풍부하며 산도와 탄닌의 적절한 균형감      La Passion   \n",
       "4    까버네 소비뇽 특유의 탄닌과 산도 그리고 잘 짜여진 구조감으로 마무리 지어진다. 친...             홉노브   \n",
       "..                                                 ...             ...   \n",
       "511                                                  O  Joseph Drouhin   \n",
       "512                       힘차면서도 발랄하며 동시에 정교함과 균형감이 느껴짐  Joseph Drouhin   \n",
       "513                                                  O  Joseph Drouhin   \n",
       "514            잘 익은 베리류의 과일맛과 약간의 버섯향과 함께 롱 피니쉬가 특징이다.  Joseph Drouhin   \n",
       "515       입안 머금자마자 바로 신선한 산도가 느껴지며 꽃향기와 약간의 생강 맛이 느껴진다  Joseph Drouhin   \n",
       "\n",
       "                         color                        food_pairing  \\\n",
       "0               녹색빛이 도는 밝은 밀짚색  대부분의 서양음식 뿐만 아니라, 한국음식과도 잘 매칭 됩니다.   \n",
       "1    바이올렛의 컬러가 살짝 감도는 반짝이는 루비색                        파스타, 가금류, 육류   \n",
       "2                     신선한 레몬칼라                 생선 및 각종 해산물 요리, 샐러드   \n",
       "3                       짙은 루비빛      각종 고기류, 치즈, 각종 이태리 요리 (스파게티) 등   \n",
       "4                       짙은 루비빛            구운고기, 불고기, 각종 고기 및 치즈류 등   \n",
       "..                         ...                                 ...   \n",
       "511                     밝은 황금빛                                   O   \n",
       "512                     밝은 황금빛            신선한 샐러드, 연어, 각종 해산물 요리 등   \n",
       "513                     밝은 황금빛            신선한 샐러드, 연어, 각종 해산물 요리 등   \n",
       "514                     밝은 석류빛       소스에 절인 고기류, 매운 한국 음식, 진한 치즈 등   \n",
       "515                     밝은 황금색                  신선한 굴, 회, 각종 해산물 등   \n",
       "\n",
       "                                                charms  \\\n",
       "0           2% 모스카토는 신의물방울에 소개된 피에몬테 아스티 지역의 세계적인 와이너리   \n",
       "1                       합리적인 가격과 부담없는 맛으로 인기 있는 스페인 와인   \n",
       "2                      합리적인 가격과 부담 없는 맛으로 인기 있는 스페인 와인   \n",
       "3                전형적인 보르도의 클래식한 스타일로 선물용으로도 손색없는 와인이다.   \n",
       "4                         Casual스타일의 Easy-Drink 프랑스 와인   \n",
       "..                                                 ...   \n",
       "511  부르고뉴의 명가 조셉드루앙은 화이트 와인에 강한 자부심을 가지고 있으며 이를 단적으...   \n",
       "512  부르고뉴의 명가 조셉드루앙은 화이트 와인을 잘 만들어 내기로 유명하며 샤블리 화이트...   \n",
       "513  부르고뉴의 명가 조셉드루앙은 화이트 와인을 잘 만들어 내기로 유명하며 샤블리 화이트...   \n",
       "514                   최상의 빈티지 2009년산으로 샤샤뉴몽라쉐 화이트만큼 유명   \n",
       "515            부르고뉴의 명가 조셉드루앙은 화이트 와인을 잘 만들어 내기로 유명하다.   \n",
       "\n",
       "                               link price_range  \n",
       "0    http://www.wine.co.kr/wine/349       0~2만원  \n",
       "1    http://www.wine.co.kr/wine/240       0~2만원  \n",
       "2    http://www.wine.co.kr/wine/241       0~2만원  \n",
       "3    http://www.wine.co.kr/wine/477      9~15만원  \n",
       "4    http://www.wine.co.kr/wine/449       0~2만원  \n",
       "..                              ...         ...  \n",
       "511  http://www.wine.co.kr/wine/472       4~9만원  \n",
       "512  http://www.wine.co.kr/wine/469       4~9만원  \n",
       "513  http://www.wine.co.kr/wine/470       4~9만원  \n",
       "514  http://www.wine.co.kr/wine/471       4~9만원  \n",
       "515  http://www.wine.co.kr/wine/467       4~9만원  \n",
       "\n",
       "[516 rows x 16 columns]"
      ]
     },
     "execution_count": 33,
     "metadata": {},
     "output_type": "execute_result"
    }
   ],
   "source": [
    "df = pd.read_csv('./data/lotte_wine_data.csv')\n",
    "df = items_df.iloc[:,1:]\n",
    "df"
   ]
  },
  {
   "cell_type": "code",
   "execution_count": 34,
   "metadata": {
    "ExecuteTime": {
     "end_time": "2020-10-28T04:56:51.513618Z",
     "start_time": "2020-10-28T04:56:51.302094Z"
    }
   },
   "outputs": [
    {
     "data": {
      "text/plain": [
       "0       0~2만원\n",
       "1       0~2만원\n",
       "2       0~2만원\n",
       "3      9~15만원\n",
       "4       0~2만원\n",
       "        ...  \n",
       "511     4~9만원\n",
       "512     4~9만원\n",
       "513     4~9만원\n",
       "514     4~9만원\n",
       "515     4~9만원\n",
       "Name: price_range, Length: 516, dtype: object"
      ]
     },
     "execution_count": 34,
     "metadata": {},
     "output_type": "execute_result"
    }
   ],
   "source": [
    "# add price range columns\n",
    "\n",
    "ls0_2 = [349, 240,241, 449, 579, 578, 633, 634, 127, 242, 246, 638, 635, 639, 636, 640, 637, 602, 366, 596, 19, 605,\n",
    "        603, 604, 13, 601, 608, 684, 609, 493, 363, 361, 362, 364, 445, 20, 21, 14, 281, 280, 15, 694, 687, 695, 691, \n",
    "        688, 689, 690, 692, 693, 334, 239, 39, 204, 205, 206, 580, 581, 448, 500, 499, 496, 501, 497, 498, 447, 495, \n",
    "        494, 243, 644, 643, 645, 642, 589, 588, 112, 113, 115, 118, 116, 117, 256, 741, 641, 624, 623, 646, 650, 648,\n",
    "        652, 649, 257, 704, 705, 352, 350, 353, 355, 358, 351, 354, 356, 583, 247, 446, 365, 370, 371, 372, 369, 373,\n",
    "        374]\n",
    "\n",
    "ls2_4 = [226, 225, 224, 223, 12, 569, 570, 571, 607, 606, 567, 123, 10, 11, 9, 513, 514, 512, 509, 508, 510, 511, 507,\n",
    "        380, 203, 201, 202, 200, 379, 504, 564, 378, 16, 17, 590, 119, 120, 534, 536, 535, 533, 531, 529, 532, 530, \n",
    "        528, 527, 383, 382, 620,621, 618, 617, 619, 625, 626, 629, 631, 628, 627, 630, 632, 341, 58, 702, 568, 565, \n",
    "        566, 384, 385, 18]\n",
    "\n",
    "ls4_9 = [161, 162, 160, 166, 661, 662, 663, 677, 672, 680, 675, 266, 268, 267, 270, 251, 682, 274, 273, 277, 276, 279,\n",
    "        278, 275, 683, 312, 316, 260, 284, 283, 707, 517, 518, 516, 515, 519, 235, 218, 217, 199, 216, 198, 563, 560,\n",
    "        561, 556, 557, 562, 681, 673, 664, 678, 709, 473, 679, 660, 558, 671, 669, 670, 667, 668, 665, 666, 545, 544, \n",
    "        546, 543, 541, 539, 542, 537, 335, 337, 338, 339, 333, 347, 676, 613, 615, 614, 616, 622, 177, 173, 174, 175,\n",
    "        168, 169, 178, 340, 264, 674, 573, 574, 575, 572, 576, 696, 697, 582, 314, 313, 311, 315, 98, 95, 101, 96, 97,\n",
    "        100, 465, 459, 451, 450, 460, 463, 458, 466, 456, 452, 462, 461, 453, 468, 472, 469, 470, 471, 467, 455, 454,\n",
    "        457, 464]\n",
    "\n",
    "ls9_15 = [477, 326, 324, 413, 386, 440, 252, 254, 483, 481, 482, 287, 489, 488, 490, 491, 289, 291, 285, 290, 299, 286,\n",
    "         298, 708, 325, 322, 321, 424, 476, 475, 319, 715, 403, 492, 344, 318, 56, 57, 54, 55, 61, 60, 62, 59, 307, \n",
    "         309, 306, 320, 308, 303, 99, 34, 33, 35, 32, 31]\n",
    "\n",
    "ls_15_over = [297, 293, 292, 295, 524, 522, 520, 521, 523, 525, 526, 222, 196, 427, 437, 431, 439, 410, 423, 429, 411, 419,\n",
    "       433, 412, 406, 408, 404, 425, 422, 435, 426, 405, 414, 436, 417, 430, 434, 428, 420, 417, 407, 416, 421, 415,\n",
    "       438, 389, 393, 394, 391, 395, 390, 396, 388, 387,397, 398, 392, 399, 400, 381, 401, 402, 441, 409, 551, 550,\n",
    "       552, 548, 549, 547, 553, 611, 612, 703, 282, 102]\n",
    "\n",
    "df['price_range'] = None\n",
    "\n",
    "for i in range(len(df)):\n",
    "    if df['link'][i][-3:][0] == '/':\n",
    "        if int(df['link'][i][-2:]) in ls0_2:\n",
    "            df['price_range'][i] = '0~2만원'\n",
    "        elif int(df['link'][i][-2:]) in ls2_4:\n",
    "            df['price_range'][i] = '2~4만원'\n",
    "        elif int(df['link'][i][-2:]) in ls4_9:\n",
    "            df['price_range'][i] = '4~9만원'\n",
    "        elif int(df['link'][i][-2:]) in ls9_15:\n",
    "            df['price_range'][i] = '9~15만원'\n",
    "        else:\n",
    "            df['price_range'][i] = '15만원 이상'\n",
    "    \n",
    "    elif df['link'][i][-3:][0] == 'e':\n",
    "        if int(df['link'][i][-1:]) in ls0_2:\n",
    "            df['price_range'][i] = '0~2만원'\n",
    "        elif int(df['link'][i][-1:]) in ls2_4:\n",
    "            df['price_range'][i] = '2~4만원'\n",
    "        elif int(df['link'][i][-1:]) in ls4_9:\n",
    "            df['price_range'][i] = '4~9만원'\n",
    "        elif int(df['link'][i][-1:]) in ls9_15:\n",
    "            df['price_range'][i] = '9~15만원'\n",
    "        else:\n",
    "            df['price_range'][i] = '15만원 이상'\n",
    "    \n",
    "    else:\n",
    "        if int(df['link'][i][-3:]) in ls0_2:\n",
    "            df['price_range'][i] = '0~2만원'\n",
    "        elif int(df['link'][i][-3:]) in ls2_4:\n",
    "            df['price_range'][i] = '2~4만원'\n",
    "        elif int(df['link'][i][-3:]) in ls4_9:\n",
    "            df['price_range'][i] = '4~9만원'\n",
    "        elif int(df['link'][i][-3:]) in ls9_15:\n",
    "            df['price_range'][i] = '9~15만원'\n",
    "        else:\n",
    "            df['price_range'][i] = '15만원 이상'\n",
    "\n",
    "df['price_range']"
   ]
  },
  {
   "cell_type": "code",
   "execution_count": 35,
   "metadata": {
    "ExecuteTime": {
     "end_time": "2020-10-28T04:56:53.945040Z",
     "start_time": "2020-10-28T04:56:53.783685Z"
    }
   },
   "outputs": [],
   "source": [
    "# use the first keyword in grape_type\n",
    "for i in range(len(df)):\n",
    "    try:\n",
    "        df['grape_type'][i] = df['grape_type'][i].split(',')[0]\n",
    "    except:\n",
    "        pass\n",
    "\n",
    "# use the first keyword in country\n",
    "for i in range(len(df)):\n",
    "        df['country'][i] = df['country'][i].split(',')[0]"
   ]
  },
  {
   "cell_type": "code",
   "execution_count": 36,
   "metadata": {
    "ExecuteTime": {
     "end_time": "2020-10-28T04:56:54.699221Z",
     "start_time": "2020-10-28T04:56:54.688780Z"
    }
   },
   "outputs": [
    {
     "data": {
      "text/plain": [
       "array(['모스카토', '기타', '카버네 소비뇽', '멜롯', '샤도네이', '쉬라즈', '피노누아', '쇼비뇽 블랑',\n",
       "       nan], dtype=object)"
      ]
     },
     "execution_count": 36,
     "metadata": {},
     "output_type": "execute_result"
    }
   ],
   "source": [
    "df['grape_type'].unique()"
   ]
  },
  {
   "cell_type": "code",
   "execution_count": 37,
   "metadata": {
    "ExecuteTime": {
     "end_time": "2020-10-28T04:56:54.925314Z",
     "start_time": "2020-10-28T04:56:54.916176Z"
    }
   },
   "outputs": [
    {
     "data": {
      "text/plain": [
       "array(['이태리', '스페인', '프랑스', '칠레', '미국', '아르헨티나 멘도사 Lujan de Cuyo',\n",
       "       '아르헨티나 멘도사 Tupungato', '아르헨티나 멘도사 85% Tupungato + 15% Ugarteche',\n",
       "       '독일', '(Moselland) 독일', '한국', '칠레 센트럴 밸리', '뉴질랜드 말보로', '뉴질랜드',\n",
       "       '칠레 콜차구아밸리', 'Chile', '칠레 마이포밸리', '칠레 레이다밸리', '칠레 라펠밸리',\n",
       "       'Rapel Valley', '호주', 'South Australia', 'South Eastern Australia',\n",
       "       '칠레 카사블랑카 밸리', '칠레 마이포 밸리', '캐나다', '아르헨티나 멘도사'], dtype=object)"
      ]
     },
     "execution_count": 37,
     "metadata": {},
     "output_type": "execute_result"
    }
   ],
   "source": [
    "df['country'].unique()"
   ]
  },
  {
   "cell_type": "code",
   "execution_count": 38,
   "metadata": {
    "ExecuteTime": {
     "end_time": "2020-10-28T04:56:55.957498Z",
     "start_time": "2020-10-28T04:56:55.786310Z"
    }
   },
   "outputs": [
    {
     "data": {
      "text/plain": [
       "array(['이태리', '스페인', '프랑스', '칠레', '미국', '아르헨티나', '독일', '한국', '뉴질랜드', '호주',\n",
       "       '캐나다'], dtype=object)"
      ]
     },
     "execution_count": 38,
     "metadata": {},
     "output_type": "execute_result"
    }
   ],
   "source": [
    "# change additional unfined data in a Country\n",
    "\n",
    "for i in range(len(df)):\n",
    "    if df['country'][i] == '아르헨티나 멘도사 Lujan de Cuyo':\n",
    "            df['country'][i] = df['country'][i].split(' ')[0]\n",
    "    elif df['country'][i] == '아르헨티나 멘도사 Tupungato':\n",
    "            df['country'][i] = df['country'][i].split(' ')[0]\n",
    "    elif df['country'][i] == '아르헨티나 멘도사 85% Tupungato + 15% Ugarteche':\n",
    "            df['country'][i] = df['country'][i].split(' ')[0]\n",
    "    elif df['country'][i] == '(Moselland) 독일':\n",
    "            df['country'][i] = df['country'][i].split(' ')[1]\n",
    "    elif df['country'][i] == '칠레 센트럴 밸리':\n",
    "            df['country'][i] = df['country'][i].split(' ')[0]\n",
    "    elif df['country'][i] == '뉴질랜드 말보로':\n",
    "            df['country'][i] = df['country'][i].split(' ')[0]\n",
    "    elif df['country'][i] == '칠레 콜차구아밸':\n",
    "            df['country'][i] = df['country'][i].split(' ')[0]\n",
    "    elif df['country'][i] == '칠레 마이포밸리':\n",
    "            df['country'][i] = df['country'][i].split(' ')[0]\n",
    "    elif df['country'][i] == '칠레 레이다밸리':\n",
    "            df['country'][i] = df['country'][i].split(' ')[0]\n",
    "    elif df['country'][i] == '칠레 라펠밸리':\n",
    "            df['country'][i] = df['country'][i].split(' ')[0]\n",
    "    elif df['country'][i] == '칠레 콜차구아밸리':\n",
    "            df['country'][i] = df['country'][i].split(' ')[0]\n",
    "    elif df['country'][i] == 'Rapel Valley':\n",
    "            df['country'][i] = '칠레'\n",
    "    elif df['country'][i] == 'South Australia':\n",
    "            df['country'][i] = '호주'\n",
    "    elif df['country'][i] == 'South Eastern Australia':\n",
    "            df['country'][i] = '호주'\n",
    "    elif df['country'][i] == '칠레 카사블랑카 밸리':\n",
    "            df['country'][i] = df['country'][i].split(' ')[0]\n",
    "    elif df['country'][i] == '칠레 마이포 밸리':\n",
    "            df['country'][i] = df['country'][i].split(' ')[0]\n",
    "    elif df['country'][i] == '아르헨티나 멘도사':\n",
    "            df['country'][i] = df['country'][i].split(' ')[0]\n",
    "    elif df['country'][i] == 'Chile':\n",
    "            df['country'][i] = '칠레'\n",
    "df['country'].unique()"
   ]
  },
  {
   "cell_type": "code",
   "execution_count": 39,
   "metadata": {
    "ExecuteTime": {
     "end_time": "2020-10-28T04:56:57.650635Z",
     "start_time": "2020-10-28T04:56:57.496463Z"
    }
   },
   "outputs": [
    {
     "data": {
      "text/plain": [
       "array(['Moscato', 'etc', 'Cabernet Sauvignon', 'Merlot', 'Chardonnay',\n",
       "       'Syrah', 'Pinor Noir', 'Sauvignon Blanc', nan], dtype=object)"
      ]
     },
     "execution_count": 39,
     "metadata": {},
     "output_type": "execute_result"
    }
   ],
   "source": [
    "# translate grape_type in Korean to English\n",
    "\n",
    "for i in range(len(df)):\n",
    "        if df['grape_type'][i] == '모스카토':\n",
    "            df['grape_type'][i] = 'Moscato'\n",
    "        elif df['grape_type'][i] == '기타':\n",
    "            df['grape_type'][i] = 'etc'\n",
    "        elif df['grape_type'][i] == '카버네 소비뇽':\n",
    "            df['grape_type'][i] = 'Cabernet Sauvignon'\n",
    "        elif df['grape_type'][i] == '멜롯':\n",
    "            df['grape_type'][i] = 'Merlot'\n",
    "        elif df['grape_type'][i] == '샤도네이':\n",
    "            df['grape_type'][i] = 'Chardonnay'\n",
    "        elif df['grape_type'][i] == '쉬라즈':\n",
    "            df['grape_type'][i] = 'Syrah'\n",
    "        elif df['grape_type'][i] == '피노누아':\n",
    "            df['grape_type'][i] = 'Pinor Noir'\n",
    "        elif df['grape_type'][i] == '쇼비뇽 블랑':\n",
    "            df['grape_type'][i] = 'Sauvignon Blanc'\n",
    "            \n",
    "df['grape_type'].unique()"
   ]
  },
  {
   "cell_type": "code",
   "execution_count": 40,
   "metadata": {
    "ExecuteTime": {
     "end_time": "2020-10-28T04:56:58.597280Z",
     "start_time": "2020-10-28T04:56:58.583610Z"
    }
   },
   "outputs": [
    {
     "data": {
      "text/plain": [
       "array(['Sweet', 'Semi Sweet', 'Dry', 'Medium Dry', 'Medium Sweet'],\n",
       "      dtype=object)"
      ]
     },
     "execution_count": 40,
     "metadata": {},
     "output_type": "execute_result"
    }
   ],
   "source": [
    "# changing sweetness to a number\n",
    "df['sweetness'].unique()"
   ]
  },
  {
   "cell_type": "code",
   "execution_count": 41,
   "metadata": {
    "ExecuteTime": {
     "end_time": "2020-10-28T04:56:59.329916Z",
     "start_time": "2020-10-28T04:56:59.306999Z"
    }
   },
   "outputs": [
    {
     "data": {
      "text/plain": [
       "array(['Sweet', 'Semi Sweet', 'Dry', 'Medium Dry'], dtype=object)"
      ]
     },
     "execution_count": 41,
     "metadata": {},
     "output_type": "execute_result"
    }
   ],
   "source": [
    "# Medium Sweet is changed to Semi Sweet, because it's same to Semi Sweet.\n",
    "\n",
    "for i in range(len(df)):\n",
    "    if df['sweetness'][i] == 'Medium Sweet':\n",
    "        df['sweetness'][i] = 'Semi Sweet'\n",
    "        \n",
    "df['sweetness'].unique()"
   ]
  },
  {
   "cell_type": "code",
   "execution_count": 42,
   "metadata": {
    "ExecuteTime": {
     "end_time": "2020-10-28T04:57:00.061825Z",
     "start_time": "2020-10-28T04:57:00.053553Z"
    }
   },
   "outputs": [
    {
     "data": {
      "text/plain": [
       "[['Sweet', 10.0], ['Semi Sweet', 7.5], ['Medium Dry', 5.0], ['Dry', 2.5]]"
      ]
     },
     "execution_count": 42,
     "metadata": {},
     "output_type": "execute_result"
    }
   ],
   "source": [
    "# sweetness_score refers to\n",
    "\n",
    "sweetness_score = [['Sweet', 4/4*10], ['Semi Sweet', 3/4*10], ['Medium Dry', 2/4*10], ['Dry', 1/4*10]]\n",
    "sweetness_score"
   ]
  },
  {
   "cell_type": "code",
   "execution_count": 43,
   "metadata": {
    "ExecuteTime": {
     "end_time": "2020-10-28T04:57:00.750599Z",
     "start_time": "2020-10-28T04:57:00.728343Z"
    }
   },
   "outputs": [
    {
     "data": {
      "text/plain": [
       "[['Tannet', 10.0],\n",
       " ['Sagratino', 9.75],\n",
       " ['Petite Sirah', 9.5],\n",
       " ['Touriga Nacional', 9.25],\n",
       " ['Mourvedre', 9.0],\n",
       " ['Petit Verdot', 8.75],\n",
       " ['Pinotage', 8.5],\n",
       " ['Syrah', 8.25],\n",
       " ['Cabernet Sauvignon', 8.0],\n",
       " ['Bordeaux Blend', 7.75],\n",
       " ['Malbec', 7.5],\n",
       " ['Agliance', 7.25],\n",
       " [\"Nero d'Avola\", 7.0],\n",
       " ['Nebbiolo', 6.75],\n",
       " ['Tempranillo', 6.5],\n",
       " ['Zinfendal', 6.25],\n",
       " ['Montepulciano', 6.0],\n",
       " ['Merlot', 5.75],\n",
       " ['Barbera', 5.5],\n",
       " ['Rhone/GSM Blend', 5.25],\n",
       " ['Negromaro', 5.0],\n",
       " ['Sangiovese', 4.75],\n",
       " ['Sangiovese', 4.5],\n",
       " ['Carbernet Franc', 4.25],\n",
       " ['Carignan', 4.0],\n",
       " ['Carmenere', 3.75],\n",
       " ['Bobal', 3.5],\n",
       " ['Valpolicella Blend', 3.25],\n",
       " ['Grenache', 3.0],\n",
       " ['Garnacha', 3.0],\n",
       " ['Viognier', 2.75],\n",
       " ['Moscato', 2.5],\n",
       " ['Champagne', 2.25],\n",
       " ['Pinor Noir', 2.0],\n",
       " ['Chardonnay', 1.75],\n",
       " ['Gamay', 1.5],\n",
       " ['Schihiava', 1.25],\n",
       " ['Riesling', 1.0],\n",
       " ['Cava', 0.75],\n",
       " ['Sauvignon Blanc', 0.5],\n",
       " ['Pino Grigio', 0.25]]"
      ]
     },
     "execution_count": 43,
     "metadata": {},
     "output_type": "execute_result"
    }
   ],
   "source": [
    "# boldness_score refers to \n",
    "\n",
    "boldness_score = [['Tannet', 40/40*10], ['Sagratino', 39/40*10], ['Petite Sirah' , 38/40*10],['Touriga Nacional' , 37/40*10],\n",
    "                 ['Mourvedre', 36/40*10], ['Petit Verdot', 35/40*10], ['Pinotage' , 34/40*10],['Syrah' , 33/40*10],\n",
    "                 ['Cabernet Sauvignon', 32/40*10], ['Bordeaux Blend' , 31/40*10], ['Malbec' , 30/40*10],['Agliance' , 29/40*10],\n",
    "                 [\"Nero d'Avola\", 28/40*10], ['Nebbiolo', 27/40*10], ['Tempranillo' , 26/40*10],['Zinfendal' , 25/40*10],\n",
    "                 ['Montepulciano', 24/40*10], ['Merlot' , 23/40*10], ['Barbera' , 22/40*10],['Rhone/GSM Blend' , 21/40*10],\n",
    "                 ['Negromaro', 20/40*10], ['Sangiovese' , 19/40*10], ['Sangiovese' , 18/40*10],['Carbernet Franc' , 17/40*10],\n",
    "                 ['Carignan', 16/40*10], ['Carmenere' , 15/40*10], ['Bobal' , 14/40*10],['Valpolicella Blend' , 13/40*10],\n",
    "                 ['Grenache', 12/40*10], ['Garnacha' , 12/40*10], ['Viognier' , 11/40*10],['Moscato' , 10/40*10],\n",
    "                 ['Champagne', 9/40*10], ['Pinor Noir' , 8/40*10], ['Chardonnay' , 7/40*10],['Gamay' , 6/40*10],\n",
    "                 ['Schihiava', 5/40*10], ['Riesling' , 4/40*10], ['Cava', 3/40*10],['Sauvignon Blanc' , 2/40*10],['Pino Grigio' , 1/40*10]\n",
    "                 ]                 \n",
    "boldness_score"
   ]
  },
  {
   "cell_type": "code",
   "execution_count": 51,
   "metadata": {
    "ExecuteTime": {
     "end_time": "2020-10-28T05:02:46.912049Z",
     "start_time": "2020-10-28T05:02:46.903564Z"
    }
   },
   "outputs": [
    {
     "data": {
      "text/plain": [
       "10.0"
      ]
     },
     "execution_count": 51,
     "metadata": {},
     "output_type": "execute_result"
    }
   ],
   "source": [
    "sweetness_score[0][1]"
   ]
  },
  {
   "cell_type": "code",
   "execution_count": 49,
   "metadata": {
    "ExecuteTime": {
     "end_time": "2020-10-28T05:01:21.501123Z",
     "start_time": "2020-10-28T05:01:21.492219Z"
    }
   },
   "outputs": [
    {
     "data": {
      "text/plain": [
       "Index(['img_link', 'alcohol', 'size', 'wine_type', 'sparkling', 'sweetness',\n",
       "       'grape_type', 'country', 'aroma', 'flavor', 'winery', 'color',\n",
       "       'food_pairing', 'charms', 'link', 'price_range'],\n",
       "      dtype='object')"
      ]
     },
     "execution_count": 49,
     "metadata": {},
     "output_type": "execute_result"
    }
   ],
   "source": [
    "df.columns"
   ]
  },
  {
   "cell_type": "code",
   "execution_count": 50,
   "metadata": {
    "ExecuteTime": {
     "end_time": "2020-10-28T05:01:57.633874Z",
     "start_time": "2020-10-28T05:01:57.623551Z"
    }
   },
   "outputs": [
    {
     "data": {
      "text/plain": [
       "'Sweet'"
      ]
     },
     "execution_count": 50,
     "metadata": {},
     "output_type": "execute_result"
    }
   ],
   "source": [
    "df['sweetness'][0]"
   ]
  },
  {
   "cell_type": "code",
   "execution_count": 69,
   "metadata": {
    "ExecuteTime": {
     "end_time": "2020-10-28T05:07:00.528523Z",
     "start_time": "2020-10-28T05:07:00.377930Z"
    }
   },
   "outputs": [
    {
     "data": {
      "text/plain": [
       "0      10.0\n",
       "1       7.5\n",
       "2       7.5\n",
       "3       2.5\n",
       "4       2.5\n",
       "       ... \n",
       "511     2.5\n",
       "512     2.5\n",
       "513     2.5\n",
       "514     2.5\n",
       "515     2.5\n",
       "Name: sweetness_score, Length: 516, dtype: float64"
      ]
     },
     "execution_count": 69,
     "metadata": {},
     "output_type": "execute_result"
    }
   ],
   "source": [
    "# add sweetness_score columns\n",
    "\n",
    "df['sweetness_score'] = float()\n",
    "\n",
    "for i in range(len(df)):\n",
    "    for n in range(len(sweetness_score)):\n",
    "        if df['sweetness'][i] == sweetness_score[n][0]:\n",
    "            df['sweetness_score'][i] = sweetness_score[n][1]\n",
    "            break\n",
    "            \n",
    "df['sweetness_score']"
   ]
  },
  {
   "cell_type": "code",
   "execution_count": 72,
   "metadata": {
    "ExecuteTime": {
     "end_time": "2020-10-28T05:08:10.056280Z",
     "start_time": "2020-10-28T05:08:09.819998Z"
    }
   },
   "outputs": [
    {
     "data": {
      "text/plain": [
       "0      2.50\n",
       "1      0.00\n",
       "2      0.00\n",
       "3      8.00\n",
       "4      8.00\n",
       "       ... \n",
       "511    0.00\n",
       "512    1.75\n",
       "513    1.75\n",
       "514    2.00\n",
       "515    1.75\n",
       "Name: boldness_score, Length: 516, dtype: float64"
      ]
     },
     "execution_count": 72,
     "metadata": {},
     "output_type": "execute_result"
    }
   ],
   "source": [
    "# add boldness_score columns\n",
    "\n",
    "df['boldness_score'] = float()\n",
    "\n",
    "for i in range(len(df)):\n",
    "    for n in range(len(boldness_score)):\n",
    "        if df['grape_type'][i] == boldness_score[n][0]:\n",
    "            df['boldness_score'][i] = boldness_score[n][1]\n",
    "            break\n",
    "            \n",
    "df['boldness_score']"
   ]
  },
  {
   "cell_type": "code",
   "execution_count": 75,
   "metadata": {
    "ExecuteTime": {
     "end_time": "2020-10-28T05:08:43.570893Z",
     "start_time": "2020-10-28T05:08:43.514499Z"
    }
   },
   "outputs": [
    {
     "data": {
      "text/html": [
       "<div>\n",
       "<style scoped>\n",
       "    .dataframe tbody tr th:only-of-type {\n",
       "        vertical-align: middle;\n",
       "    }\n",
       "\n",
       "    .dataframe tbody tr th {\n",
       "        vertical-align: top;\n",
       "    }\n",
       "\n",
       "    .dataframe thead th {\n",
       "        text-align: right;\n",
       "    }\n",
       "</style>\n",
       "<table border=\"1\" class=\"dataframe\">\n",
       "  <thead>\n",
       "    <tr style=\"text-align: right;\">\n",
       "      <th></th>\n",
       "      <th>img_link</th>\n",
       "      <th>alcohol</th>\n",
       "      <th>size</th>\n",
       "      <th>wine_type</th>\n",
       "      <th>sparkling</th>\n",
       "      <th>sweetness</th>\n",
       "      <th>grape_type</th>\n",
       "      <th>country</th>\n",
       "      <th>aroma</th>\n",
       "      <th>flavor</th>\n",
       "      <th>winery</th>\n",
       "      <th>color</th>\n",
       "      <th>food_pairing</th>\n",
       "      <th>charms</th>\n",
       "      <th>link</th>\n",
       "      <th>price_range</th>\n",
       "      <th>sweetness_score</th>\n",
       "      <th>boldness_score</th>\n",
       "    </tr>\n",
       "  </thead>\n",
       "  <tbody>\n",
       "    <tr>\n",
       "      <th>0</th>\n",
       "      <td>http://www.wine.co.kr/upload/products/wineList...</td>\n",
       "      <td>2.0%</td>\n",
       "      <td>750ml</td>\n",
       "      <td>White</td>\n",
       "      <td>Still</td>\n",
       "      <td>Sweet</td>\n",
       "      <td>Moscato</td>\n",
       "      <td>이태리</td>\n",
       "      <td>상큼하고 매력적인 아로마</td>\n",
       "      <td>깨끗한 모스카토의 아로마가 정교한 과일향과 조화를 잘 이뤄 여성 뿐만 아니라, 모든...</td>\n",
       "      <td>산테로</td>\n",
       "      <td>녹색빛이 도는 밝은 밀짚색</td>\n",
       "      <td>대부분의 서양음식 뿐만 아니라, 한국음식과도 잘 매칭 됩니다.</td>\n",
       "      <td>2% 모스카토는 신의물방울에 소개된 피에몬테 아스티 지역의 세계적인 와이너리</td>\n",
       "      <td>http://www.wine.co.kr/wine/349</td>\n",
       "      <td>0~2만원</td>\n",
       "      <td>10.0</td>\n",
       "      <td>2.50</td>\n",
       "    </tr>\n",
       "    <tr>\n",
       "      <th>1</th>\n",
       "      <td>http://www.wine.co.kr/upload/products/wineList...</td>\n",
       "      <td>11.0%</td>\n",
       "      <td>750ml</td>\n",
       "      <td>Red</td>\n",
       "      <td>Still</td>\n",
       "      <td>Semi Sweet</td>\n",
       "      <td>etc</td>\n",
       "      <td>스페인</td>\n",
       "      <td>신선한 과일의 아로마</td>\n",
       "      <td>부드러운 탄닌의 밸런스와 부드러운 여운을 보여주는 이 와인은 달콤한 맛이 잘 살아 ...</td>\n",
       "      <td>Felix Solis</td>\n",
       "      <td>바이올렛의 컬러가 살짝 감도는 반짝이는 루비색</td>\n",
       "      <td>파스타, 가금류, 육류</td>\n",
       "      <td>합리적인 가격과 부담없는 맛으로 인기 있는 스페인 와인</td>\n",
       "      <td>http://www.wine.co.kr/wine/240</td>\n",
       "      <td>0~2만원</td>\n",
       "      <td>7.5</td>\n",
       "      <td>0.00</td>\n",
       "    </tr>\n",
       "    <tr>\n",
       "      <th>2</th>\n",
       "      <td>http://www.wine.co.kr/upload/products/wineList...</td>\n",
       "      <td>10.5%</td>\n",
       "      <td>750ml</td>\n",
       "      <td>White</td>\n",
       "      <td>Still</td>\n",
       "      <td>Semi Sweet</td>\n",
       "      <td>etc</td>\n",
       "      <td>스페인</td>\n",
       "      <td>각종 꽃과 열대 과일의 아로마</td>\n",
       "      <td>드라이하지 않고 단맛이 잘 살아 있는 미디엄 스위트 와인으로 일상적이고 캐쥬얼한 자...</td>\n",
       "      <td>Felix Solis</td>\n",
       "      <td>신선한 레몬칼라</td>\n",
       "      <td>생선 및 각종 해산물 요리, 샐러드</td>\n",
       "      <td>합리적인 가격과 부담 없는 맛으로 인기 있는 스페인 와인</td>\n",
       "      <td>http://www.wine.co.kr/wine/241</td>\n",
       "      <td>0~2만원</td>\n",
       "      <td>7.5</td>\n",
       "      <td>0.00</td>\n",
       "    </tr>\n",
       "    <tr>\n",
       "      <th>3</th>\n",
       "      <td>http://www.wine.co.kr/upload/products/wineList...</td>\n",
       "      <td>13.0%</td>\n",
       "      <td>750ml</td>\n",
       "      <td>Red</td>\n",
       "      <td>Still</td>\n",
       "      <td>Dry</td>\n",
       "      <td>Cabernet Sauvignon</td>\n",
       "      <td>프랑스</td>\n",
       "      <td>붉은 과실향,약간의 흙내음</td>\n",
       "      <td>둥글고 과일향이 풍부하며 산도와 탄닌의 적절한 균형감</td>\n",
       "      <td>La Passion</td>\n",
       "      <td>짙은 루비빛</td>\n",
       "      <td>각종 고기류, 치즈, 각종 이태리 요리 (스파게티) 등</td>\n",
       "      <td>전형적인 보르도의 클래식한 스타일로 선물용으로도 손색없는 와인이다.</td>\n",
       "      <td>http://www.wine.co.kr/wine/477</td>\n",
       "      <td>9~15만원</td>\n",
       "      <td>2.5</td>\n",
       "      <td>8.00</td>\n",
       "    </tr>\n",
       "    <tr>\n",
       "      <th>4</th>\n",
       "      <td>http://www.wine.co.kr/upload/products/wineList...</td>\n",
       "      <td>13.0%</td>\n",
       "      <td>750ml</td>\n",
       "      <td>Red</td>\n",
       "      <td>Still</td>\n",
       "      <td>Dry</td>\n",
       "      <td>Cabernet Sauvignon</td>\n",
       "      <td>프랑스</td>\n",
       "      <td>블루베리 아로마가 처음 코에 와 닿으며 적색과일과 함께후추 등의 향신료향이 느껴진다.</td>\n",
       "      <td>까버네 소비뇽 특유의 탄닌과 산도 그리고 잘 짜여진 구조감으로 마무리 지어진다. 친...</td>\n",
       "      <td>홉노브</td>\n",
       "      <td>짙은 루비빛</td>\n",
       "      <td>구운고기, 불고기, 각종 고기 및 치즈류 등</td>\n",
       "      <td>Casual스타일의 Easy-Drink 프랑스 와인</td>\n",
       "      <td>http://www.wine.co.kr/wine/449</td>\n",
       "      <td>0~2만원</td>\n",
       "      <td>2.5</td>\n",
       "      <td>8.00</td>\n",
       "    </tr>\n",
       "    <tr>\n",
       "      <th>...</th>\n",
       "      <td>...</td>\n",
       "      <td>...</td>\n",
       "      <td>...</td>\n",
       "      <td>...</td>\n",
       "      <td>...</td>\n",
       "      <td>...</td>\n",
       "      <td>...</td>\n",
       "      <td>...</td>\n",
       "      <td>...</td>\n",
       "      <td>...</td>\n",
       "      <td>...</td>\n",
       "      <td>...</td>\n",
       "      <td>...</td>\n",
       "      <td>...</td>\n",
       "      <td>...</td>\n",
       "      <td>...</td>\n",
       "      <td>...</td>\n",
       "      <td>...</td>\n",
       "    </tr>\n",
       "    <tr>\n",
       "      <th>511</th>\n",
       "      <td>http://www.wine.co.kr/upload/products/wineList...</td>\n",
       "      <td>13.0%</td>\n",
       "      <td>750ml</td>\n",
       "      <td>White</td>\n",
       "      <td>Still</td>\n",
       "      <td>Dry</td>\n",
       "      <td>etc</td>\n",
       "      <td>프랑스</td>\n",
       "      <td>레몬, 시트러스향, 부싯돌향</td>\n",
       "      <td>O</td>\n",
       "      <td>Joseph Drouhin</td>\n",
       "      <td>밝은 황금빛</td>\n",
       "      <td>O</td>\n",
       "      <td>부르고뉴의 명가 조셉드루앙은 화이트 와인에 강한 자부심을 가지고 있으며 이를 단적으...</td>\n",
       "      <td>http://www.wine.co.kr/wine/472</td>\n",
       "      <td>4~9만원</td>\n",
       "      <td>2.5</td>\n",
       "      <td>0.00</td>\n",
       "    </tr>\n",
       "    <tr>\n",
       "      <th>512</th>\n",
       "      <td>http://www.wine.co.kr/upload/products/wineList...</td>\n",
       "      <td>13.0%</td>\n",
       "      <td>750ml</td>\n",
       "      <td>White</td>\n",
       "      <td>Still</td>\n",
       "      <td>Dry</td>\n",
       "      <td>Chardonnay</td>\n",
       "      <td>프랑스</td>\n",
       "      <td>전형적인 샤블리 향, 약간의 소금기도 느껴진다</td>\n",
       "      <td>힘차면서도 발랄하며 동시에 정교함과 균형감이 느껴짐</td>\n",
       "      <td>Joseph Drouhin</td>\n",
       "      <td>밝은 황금빛</td>\n",
       "      <td>신선한 샐러드, 연어, 각종 해산물 요리 등</td>\n",
       "      <td>부르고뉴의 명가 조셉드루앙은 화이트 와인을 잘 만들어 내기로 유명하며 샤블리 화이트...</td>\n",
       "      <td>http://www.wine.co.kr/wine/469</td>\n",
       "      <td>4~9만원</td>\n",
       "      <td>2.5</td>\n",
       "      <td>1.75</td>\n",
       "    </tr>\n",
       "    <tr>\n",
       "      <th>513</th>\n",
       "      <td>http://www.wine.co.kr/upload/products/wineList...</td>\n",
       "      <td>13.0%</td>\n",
       "      <td>750ml</td>\n",
       "      <td>White</td>\n",
       "      <td>Still</td>\n",
       "      <td>Dry</td>\n",
       "      <td>Chardonnay</td>\n",
       "      <td>프랑스</td>\n",
       "      <td>흰꽃, 아스파라거스, 약간의 꿀향</td>\n",
       "      <td>O</td>\n",
       "      <td>Joseph Drouhin</td>\n",
       "      <td>밝은 황금빛</td>\n",
       "      <td>신선한 샐러드, 연어, 각종 해산물 요리 등</td>\n",
       "      <td>부르고뉴의 명가 조셉드루앙은 화이트 와인을 잘 만들어 내기로 유명하며 샤블리 화이트...</td>\n",
       "      <td>http://www.wine.co.kr/wine/470</td>\n",
       "      <td>4~9만원</td>\n",
       "      <td>2.5</td>\n",
       "      <td>1.75</td>\n",
       "    </tr>\n",
       "    <tr>\n",
       "      <th>514</th>\n",
       "      <td>http://www.wine.co.kr/upload/products/wineList...</td>\n",
       "      <td>13.0%</td>\n",
       "      <td>750ml</td>\n",
       "      <td>Red</td>\n",
       "      <td>Still</td>\n",
       "      <td>Dry</td>\n",
       "      <td>Pinor Noir</td>\n",
       "      <td>프랑스</td>\n",
       "      <td>잘 익은 붉은 과실향</td>\n",
       "      <td>잘 익은 베리류의 과일맛과 약간의 버섯향과 함께 롱 피니쉬가 특징이다.</td>\n",
       "      <td>Joseph Drouhin</td>\n",
       "      <td>밝은 석류빛</td>\n",
       "      <td>소스에 절인 고기류, 매운 한국 음식, 진한 치즈 등</td>\n",
       "      <td>최상의 빈티지 2009년산으로 샤샤뉴몽라쉐 화이트만큼 유명</td>\n",
       "      <td>http://www.wine.co.kr/wine/471</td>\n",
       "      <td>4~9만원</td>\n",
       "      <td>2.5</td>\n",
       "      <td>2.00</td>\n",
       "    </tr>\n",
       "    <tr>\n",
       "      <th>515</th>\n",
       "      <td>http://www.wine.co.kr/upload/products/wineList...</td>\n",
       "      <td>13.0%</td>\n",
       "      <td>750ml</td>\n",
       "      <td>White</td>\n",
       "      <td>Still</td>\n",
       "      <td>Dry</td>\n",
       "      <td>Chardonnay</td>\n",
       "      <td>프랑스</td>\n",
       "      <td>구운 레몬, 약간의 꽃향기, 구운 헤이즐넛, 향신료 향</td>\n",
       "      <td>입안 머금자마자 바로 신선한 산도가 느껴지며 꽃향기와 약간의 생강 맛이 느껴진다</td>\n",
       "      <td>Joseph Drouhin</td>\n",
       "      <td>밝은 황금색</td>\n",
       "      <td>신선한 굴, 회, 각종 해산물 등</td>\n",
       "      <td>부르고뉴의 명가 조셉드루앙은 화이트 와인을 잘 만들어 내기로 유명하다.</td>\n",
       "      <td>http://www.wine.co.kr/wine/467</td>\n",
       "      <td>4~9만원</td>\n",
       "      <td>2.5</td>\n",
       "      <td>1.75</td>\n",
       "    </tr>\n",
       "  </tbody>\n",
       "</table>\n",
       "<p>516 rows × 18 columns</p>\n",
       "</div>"
      ],
      "text/plain": [
       "                                              img_link alcohol   size  \\\n",
       "0    http://www.wine.co.kr/upload/products/wineList...    2.0%  750ml   \n",
       "1    http://www.wine.co.kr/upload/products/wineList...   11.0%  750ml   \n",
       "2    http://www.wine.co.kr/upload/products/wineList...   10.5%  750ml   \n",
       "3    http://www.wine.co.kr/upload/products/wineList...   13.0%  750ml   \n",
       "4    http://www.wine.co.kr/upload/products/wineList...   13.0%  750ml   \n",
       "..                                                 ...     ...    ...   \n",
       "511  http://www.wine.co.kr/upload/products/wineList...   13.0%  750ml   \n",
       "512  http://www.wine.co.kr/upload/products/wineList...   13.0%  750ml   \n",
       "513  http://www.wine.co.kr/upload/products/wineList...   13.0%  750ml   \n",
       "514  http://www.wine.co.kr/upload/products/wineList...   13.0%  750ml   \n",
       "515  http://www.wine.co.kr/upload/products/wineList...   13.0%  750ml   \n",
       "\n",
       "    wine_type sparkling   sweetness          grape_type country  \\\n",
       "0       White     Still       Sweet             Moscato     이태리   \n",
       "1         Red     Still  Semi Sweet                 etc     스페인   \n",
       "2       White     Still  Semi Sweet                 etc     스페인   \n",
       "3         Red     Still         Dry  Cabernet Sauvignon     프랑스   \n",
       "4         Red     Still         Dry  Cabernet Sauvignon     프랑스   \n",
       "..        ...       ...         ...                 ...     ...   \n",
       "511     White     Still         Dry                 etc     프랑스   \n",
       "512     White     Still         Dry          Chardonnay     프랑스   \n",
       "513     White     Still         Dry          Chardonnay     프랑스   \n",
       "514       Red     Still         Dry          Pinor Noir     프랑스   \n",
       "515     White     Still         Dry          Chardonnay     프랑스   \n",
       "\n",
       "                                               aroma  \\\n",
       "0                                      상큼하고 매력적인 아로마   \n",
       "1                                        신선한 과일의 아로마   \n",
       "2                                   각종 꽃과 열대 과일의 아로마   \n",
       "3                                     붉은 과실향,약간의 흙내음   \n",
       "4    블루베리 아로마가 처음 코에 와 닿으며 적색과일과 함께후추 등의 향신료향이 느껴진다.   \n",
       "..                                               ...   \n",
       "511                                  레몬, 시트러스향, 부싯돌향   \n",
       "512                        전형적인 샤블리 향, 약간의 소금기도 느껴진다   \n",
       "513                               흰꽃, 아스파라거스, 약간의 꿀향   \n",
       "514                                      잘 익은 붉은 과실향   \n",
       "515                   구운 레몬, 약간의 꽃향기, 구운 헤이즐넛, 향신료 향   \n",
       "\n",
       "                                                flavor          winery  \\\n",
       "0    깨끗한 모스카토의 아로마가 정교한 과일향과 조화를 잘 이뤄 여성 뿐만 아니라, 모든...             산테로   \n",
       "1    부드러운 탄닌의 밸런스와 부드러운 여운을 보여주는 이 와인은 달콤한 맛이 잘 살아 ...     Felix Solis   \n",
       "2    드라이하지 않고 단맛이 잘 살아 있는 미디엄 스위트 와인으로 일상적이고 캐쥬얼한 자...     Felix Solis   \n",
       "3                        둥글고 과일향이 풍부하며 산도와 탄닌의 적절한 균형감      La Passion   \n",
       "4    까버네 소비뇽 특유의 탄닌과 산도 그리고 잘 짜여진 구조감으로 마무리 지어진다. 친...             홉노브   \n",
       "..                                                 ...             ...   \n",
       "511                                                  O  Joseph Drouhin   \n",
       "512                       힘차면서도 발랄하며 동시에 정교함과 균형감이 느껴짐  Joseph Drouhin   \n",
       "513                                                  O  Joseph Drouhin   \n",
       "514            잘 익은 베리류의 과일맛과 약간의 버섯향과 함께 롱 피니쉬가 특징이다.  Joseph Drouhin   \n",
       "515       입안 머금자마자 바로 신선한 산도가 느껴지며 꽃향기와 약간의 생강 맛이 느껴진다  Joseph Drouhin   \n",
       "\n",
       "                         color                        food_pairing  \\\n",
       "0               녹색빛이 도는 밝은 밀짚색  대부분의 서양음식 뿐만 아니라, 한국음식과도 잘 매칭 됩니다.   \n",
       "1    바이올렛의 컬러가 살짝 감도는 반짝이는 루비색                        파스타, 가금류, 육류   \n",
       "2                     신선한 레몬칼라                 생선 및 각종 해산물 요리, 샐러드   \n",
       "3                       짙은 루비빛      각종 고기류, 치즈, 각종 이태리 요리 (스파게티) 등   \n",
       "4                       짙은 루비빛            구운고기, 불고기, 각종 고기 및 치즈류 등   \n",
       "..                         ...                                 ...   \n",
       "511                     밝은 황금빛                                   O   \n",
       "512                     밝은 황금빛            신선한 샐러드, 연어, 각종 해산물 요리 등   \n",
       "513                     밝은 황금빛            신선한 샐러드, 연어, 각종 해산물 요리 등   \n",
       "514                     밝은 석류빛       소스에 절인 고기류, 매운 한국 음식, 진한 치즈 등   \n",
       "515                     밝은 황금색                  신선한 굴, 회, 각종 해산물 등   \n",
       "\n",
       "                                                charms  \\\n",
       "0           2% 모스카토는 신의물방울에 소개된 피에몬테 아스티 지역의 세계적인 와이너리   \n",
       "1                       합리적인 가격과 부담없는 맛으로 인기 있는 스페인 와인   \n",
       "2                      합리적인 가격과 부담 없는 맛으로 인기 있는 스페인 와인   \n",
       "3                전형적인 보르도의 클래식한 스타일로 선물용으로도 손색없는 와인이다.   \n",
       "4                         Casual스타일의 Easy-Drink 프랑스 와인   \n",
       "..                                                 ...   \n",
       "511  부르고뉴의 명가 조셉드루앙은 화이트 와인에 강한 자부심을 가지고 있으며 이를 단적으...   \n",
       "512  부르고뉴의 명가 조셉드루앙은 화이트 와인을 잘 만들어 내기로 유명하며 샤블리 화이트...   \n",
       "513  부르고뉴의 명가 조셉드루앙은 화이트 와인을 잘 만들어 내기로 유명하며 샤블리 화이트...   \n",
       "514                   최상의 빈티지 2009년산으로 샤샤뉴몽라쉐 화이트만큼 유명   \n",
       "515            부르고뉴의 명가 조셉드루앙은 화이트 와인을 잘 만들어 내기로 유명하다.   \n",
       "\n",
       "                               link price_range  sweetness_score  \\\n",
       "0    http://www.wine.co.kr/wine/349       0~2만원             10.0   \n",
       "1    http://www.wine.co.kr/wine/240       0~2만원              7.5   \n",
       "2    http://www.wine.co.kr/wine/241       0~2만원              7.5   \n",
       "3    http://www.wine.co.kr/wine/477      9~15만원              2.5   \n",
       "4    http://www.wine.co.kr/wine/449       0~2만원              2.5   \n",
       "..                              ...         ...              ...   \n",
       "511  http://www.wine.co.kr/wine/472       4~9만원              2.5   \n",
       "512  http://www.wine.co.kr/wine/469       4~9만원              2.5   \n",
       "513  http://www.wine.co.kr/wine/470       4~9만원              2.5   \n",
       "514  http://www.wine.co.kr/wine/471       4~9만원              2.5   \n",
       "515  http://www.wine.co.kr/wine/467       4~9만원              2.5   \n",
       "\n",
       "     boldness_score  \n",
       "0              2.50  \n",
       "1              0.00  \n",
       "2              0.00  \n",
       "3              8.00  \n",
       "4              8.00  \n",
       "..              ...  \n",
       "511            0.00  \n",
       "512            1.75  \n",
       "513            1.75  \n",
       "514            2.00  \n",
       "515            1.75  \n",
       "\n",
       "[516 rows x 18 columns]"
      ]
     },
     "execution_count": 75,
     "metadata": {},
     "output_type": "execute_result"
    }
   ],
   "source": [
    "df"
   ]
  },
  {
   "cell_type": "code",
   "execution_count": 457,
   "metadata": {
    "ExecuteTime": {
     "end_time": "2020-10-26T08:06:47.157159Z",
     "start_time": "2020-10-26T08:06:47.151646Z"
    }
   },
   "outputs": [],
   "source": [
    "# boldness 추가\n",
    "# 기타는 어떻게 처리할지 고민\n",
    "\n",
    "\n",
    "# '멜롯', '쉬라즈' => (13/13)*10\n",
    "# '말벳', '카버네 소비뇽' => (12/13)*10\n",
    "# '까베르네 프랑' => (11/13)*10\n",
    "# '비오니에' => (10/13)*10\n",
    "# '그르나슈', '쁘띠 시라', '끼안티' => (9/13)*10\n",
    "# '샹파뉴' => (8/13)*10\n",
    "# '모스카토' => (7/13)*10\n",
    "# '피노누아' => (6/13)*10\n",
    "# '샤도네이' => (5/13)*10\n",
    "# '리즐링' => (4/13)*10\n",
    "# '쇼비뇽 블랑' => (4/13)*10\n",
    "# '까바' => (2/13)*10\n",
    "# '피노 그라지오' => (1/13)*10"
   ]
  },
  {
   "cell_type": "markdown",
   "metadata": {},
   "source": [
    "# 데이터 분석"
   ]
  },
  {
   "cell_type": "markdown",
   "metadata": {},
   "source": [
    "## 이상치 확인"
   ]
  },
  {
   "cell_type": "code",
   "execution_count": 437,
   "metadata": {
    "ExecuteTime": {
     "end_time": "2020-10-26T07:39:44.098381Z",
     "start_time": "2020-10-26T07:39:44.084123Z"
    }
   },
   "outputs": [
    {
     "data": {
      "text/plain": [
       "title           0\n",
       "img_link        0\n",
       "price_range     0\n",
       "alcohol         0\n",
       "size            0\n",
       "wine_type       0\n",
       "sparkling       0\n",
       "sweetness       0\n",
       "grape_type      0\n",
       "country         0\n",
       "aroma           0\n",
       "flavor          0\n",
       "winery          0\n",
       "color           0\n",
       "food_pairing    0\n",
       "charms          0\n",
       "link            0\n",
       "dtype: int64"
      ]
     },
     "execution_count": 437,
     "metadata": {},
     "output_type": "execute_result"
    }
   ],
   "source": [
    "items_df.isnull().sum()"
   ]
  },
  {
   "cell_type": "code",
   "execution_count": 424,
   "metadata": {
    "ExecuteTime": {
     "end_time": "2020-10-26T07:32:13.692393Z",
     "start_time": "2020-10-26T07:32:13.648947Z"
    }
   },
   "outputs": [
    {
     "data": {
      "text/html": [
       "<div>\n",
       "<style scoped>\n",
       "    .dataframe tbody tr th:only-of-type {\n",
       "        vertical-align: middle;\n",
       "    }\n",
       "\n",
       "    .dataframe tbody tr th {\n",
       "        vertical-align: top;\n",
       "    }\n",
       "\n",
       "    .dataframe thead th {\n",
       "        text-align: right;\n",
       "    }\n",
       "</style>\n",
       "<table border=\"1\" class=\"dataframe\">\n",
       "  <thead>\n",
       "    <tr style=\"text-align: right;\">\n",
       "      <th></th>\n",
       "      <th>title</th>\n",
       "      <th>img_link</th>\n",
       "      <th>price_range</th>\n",
       "      <th>alcohol</th>\n",
       "      <th>size</th>\n",
       "      <th>wine_type</th>\n",
       "      <th>sparkling</th>\n",
       "      <th>sweetness</th>\n",
       "      <th>grape_type</th>\n",
       "      <th>country</th>\n",
       "      <th>aroma</th>\n",
       "      <th>flavor</th>\n",
       "      <th>winery</th>\n",
       "      <th>color</th>\n",
       "      <th>food_pairing</th>\n",
       "      <th>charms</th>\n",
       "      <th>link</th>\n",
       "    </tr>\n",
       "  </thead>\n",
       "  <tbody>\n",
       "    <tr>\n",
       "      <th>500</th>\n",
       "      <td>Joseph Drouhin La Foret Bourgogne Blanc</td>\n",
       "      <td>http://www.wine.co.kr/upload/products/wineList...</td>\n",
       "      <td>4~9만원</td>\n",
       "      <td>13.0%</td>\n",
       "      <td>750ml</td>\n",
       "      <td>White</td>\n",
       "      <td>Still</td>\n",
       "      <td>Dry</td>\n",
       "      <td>멜롯</td>\n",
       "      <td>프랑스, 부르고뉴, 버건디</td>\n",
       "      <td>레몬, 시트러스향</td>\n",
       "      <td>매우 클래식한 부르고뉴 화이트와인으로, 후레쉬하고 우아한 텍스쳐가 인상적이며 입안에...</td>\n",
       "      <td>Joseph Drouhin</td>\n",
       "      <td>밝은 황금빛</td>\n",
       "      <td>신선한 굴, 회, 각종 해산물 등</td>\n",
       "      <td>매우 클래식한 부르고뉴 화이트 와인으로 대중적으로 즐길 수 있는 제품. 가격대비 품...</td>\n",
       "      <td>http://www.wine.co.kr/wine/450</td>\n",
       "    </tr>\n",
       "  </tbody>\n",
       "</table>\n",
       "</div>"
      ],
      "text/plain": [
       "                                        title  \\\n",
       "500  Joseph Drouhin La Foret Bourgogne Blanc    \n",
       "\n",
       "                                              img_link price_range alcohol  \\\n",
       "500  http://www.wine.co.kr/upload/products/wineList...       4~9만원   13.0%   \n",
       "\n",
       "      size wine_type sparkling sweetness grape_type         country  \\\n",
       "500  750ml     White     Still       Dry         멜롯  프랑스, 부르고뉴, 버건디   \n",
       "\n",
       "         aroma                                             flavor  \\\n",
       "500  레몬, 시트러스향  매우 클래식한 부르고뉴 화이트와인으로, 후레쉬하고 우아한 텍스쳐가 인상적이며 입안에...   \n",
       "\n",
       "             winery   color        food_pairing  \\\n",
       "500  Joseph Drouhin  밝은 황금빛  신선한 굴, 회, 각종 해산물 등   \n",
       "\n",
       "                                                charms  \\\n",
       "500  매우 클래식한 부르고뉴 화이트 와인으로 대중적으로 즐길 수 있는 제품. 가격대비 품...   \n",
       "\n",
       "                               link  \n",
       "500  http://www.wine.co.kr/wine/450  "
      ]
     },
     "execution_count": 424,
     "metadata": {},
     "output_type": "execute_result"
    }
   ],
   "source": [
    "items_df[(items_df['wine_type'] == 'White') & (items_df['grape_type'] == '멜롯')]"
   ]
  },
  {
   "cell_type": "code",
   "execution_count": 422,
   "metadata": {
    "ExecuteTime": {
     "end_time": "2020-10-26T07:31:21.071065Z",
     "start_time": "2020-10-26T07:31:21.060561Z"
    }
   },
   "outputs": [],
   "source": [
    "# 실제로 샤도네이인데 '멜롯' 오타 난듯\n",
    "\n",
    "items_df[(items_df['wine_type'] == 'White') & (items_df['grape_type'] == '멜롯')].loc[:,'grape_type'] = '샤도네이'"
   ]
  },
  {
   "cell_type": "code",
   "execution_count": null,
   "metadata": {},
   "outputs": [],
   "source": [
    "# 이상치 제거\n",
    "\n",
    "items_df.loc[500, 'grape_type'] = '샤도네이'"
   ]
  },
  {
   "cell_type": "code",
   "execution_count": 429,
   "metadata": {
    "ExecuteTime": {
     "end_time": "2020-10-26T07:33:51.652916Z",
     "start_time": "2020-10-26T07:33:51.587091Z"
    }
   },
   "outputs": [],
   "source": [
    "items_df.to_csv('./data/lotte_wine_data.csv', encoding='utf-8-sig')"
   ]
  },
  {
   "cell_type": "code",
   "execution_count": null,
   "metadata": {},
   "outputs": [],
   "source": []
  },
  {
   "cell_type": "code",
   "execution_count": null,
   "metadata": {},
   "outputs": [],
   "source": []
  },
  {
   "cell_type": "code",
   "execution_count": null,
   "metadata": {},
   "outputs": [],
   "source": []
  },
  {
   "cell_type": "markdown",
   "metadata": {},
   "source": [
    "### 추가 사항\n",
    "\n",
    "- 인원 수에 따른 와인 수도 추천 eg. 피보나치킨\n",
    "- "
   ]
  },
  {
   "cell_type": "code",
   "execution_count": null,
   "metadata": {},
   "outputs": [],
   "source": []
  },
  {
   "cell_type": "code",
   "execution_count": null,
   "metadata": {},
   "outputs": [],
   "source": []
  }
 ],
 "metadata": {
  "kernelspec": {
   "display_name": "Python 3",
   "language": "python",
   "name": "python3"
  },
  "language_info": {
   "codemirror_mode": {
    "name": "ipython",
    "version": 3
   },
   "file_extension": ".py",
   "mimetype": "text/x-python",
   "name": "python",
   "nbconvert_exporter": "python",
   "pygments_lexer": "ipython3",
   "version": "3.7.7"
  },
  "toc": {
   "base_numbering": 1,
   "nav_menu": {},
   "number_sections": true,
   "sideBar": true,
   "skip_h1_title": false,
   "title_cell": "Table of Contents",
   "title_sidebar": "Contents",
   "toc_cell": false,
   "toc_position": {},
   "toc_section_display": true,
   "toc_window_display": false
  },
  "varInspector": {
   "cols": {
    "lenName": 16,
    "lenType": 16,
    "lenVar": 40
   },
   "kernels_config": {
    "python": {
     "delete_cmd_postfix": "",
     "delete_cmd_prefix": "del ",
     "library": "var_list.py",
     "varRefreshCmd": "print(var_dic_list())"
    },
    "r": {
     "delete_cmd_postfix": ") ",
     "delete_cmd_prefix": "rm(",
     "library": "var_list.r",
     "varRefreshCmd": "cat(var_dic_list()) "
    }
   },
   "types_to_exclude": [
    "module",
    "function",
    "builtin_function_or_method",
    "instance",
    "_Feature"
   ],
   "window_display": false
  }
 },
 "nbformat": 4,
 "nbformat_minor": 4
}
