{
 "cells": [
  {
   "cell_type": "code",
   "execution_count": 224,
   "metadata": {
    "ExecuteTime": {
     "end_time": "2020-10-24T13:35:38.338889Z",
     "start_time": "2020-10-24T13:35:38.333488Z"
    }
   },
   "outputs": [],
   "source": [
    "# crawling\n",
    "\n",
    "\n",
    "import requests \n",
    "from bs4 import BeautifulSoup\n",
    "\n",
    "# scrapy\n",
    "\n",
    "\n",
    "import scrapy\n",
    "import requests\n",
    "from scrapy.http import TextResponse"
   ]
  },
  {
   "cell_type": "markdown",
   "metadata": {},
   "source": [
    "# scrapy\n",
    "\n",
    "- title, img_link, price_range, alcohol, size, wine_type, sweetness, grape_type, country, aroma, flavor, winery, food_pairing, charms\n",
    "- xpath\n",
    "- items.py\n",
    "- spider.py\n",
    "- crawler 실행"
   ]
  },
  {
   "cell_type": "markdown",
   "metadata": {
    "ExecuteTime": {
     "end_time": "2020-10-24T14:09:31.105692Z",
     "start_time": "2020-10-24T14:09:31.100532Z"
    }
   },
   "source": [
    "## xpath 확인"
   ]
  },
  {
   "cell_type": "code",
   "execution_count": 306,
   "metadata": {
    "ExecuteTime": {
     "end_time": "2020-10-24T15:28:34.498150Z",
     "start_time": "2020-10-24T15:27:05.594402Z"
    }
   },
   "outputs": [
    {
     "data": {
      "text/html": [
       "<div>\n",
       "<style scoped>\n",
       "    .dataframe tbody tr th:only-of-type {\n",
       "        vertical-align: middle;\n",
       "    }\n",
       "\n",
       "    .dataframe tbody tr th {\n",
       "        vertical-align: top;\n",
       "    }\n",
       "\n",
       "    .dataframe thead th {\n",
       "        text-align: right;\n",
       "    }\n",
       "</style>\n",
       "<table border=\"1\" class=\"dataframe\">\n",
       "  <thead>\n",
       "    <tr style=\"text-align: right;\">\n",
       "      <th></th>\n",
       "      <th>title</th>\n",
       "      <th>img_link</th>\n",
       "      <th>price_range</th>\n",
       "      <th>alcohol</th>\n",
       "      <th>size</th>\n",
       "      <th>wine_type</th>\n",
       "      <th>sweetness</th>\n",
       "      <th>grape_type</th>\n",
       "      <th>country</th>\n",
       "      <th>aroma</th>\n",
       "      <th>flavor</th>\n",
       "      <th>winery</th>\n",
       "      <th>color</th>\n",
       "      <th>food_pairing</th>\n",
       "      <th>charms</th>\n",
       "    </tr>\n",
       "  </thead>\n",
       "  <tbody>\n",
       "    <tr>\n",
       "      <th>514</th>\n",
       "      <td>J.D 샤샤뉴 몽라쉐 루즈</td>\n",
       "      <td>http://www.wine.co.kr/upload/products/wineList...</td>\n",
       "      <td>1만원대 (0~2만원)</td>\n",
       "      <td>13.0%</td>\n",
       "      <td>750ml</td>\n",
       "      <td>Red</td>\n",
       "      <td>Dry</td>\n",
       "      <td>피노누아</td>\n",
       "      <td>프랑스, 부르고뉴, 꼬뜨 드 본</td>\n",
       "      <td>잘 익은 붉은 과실향</td>\n",
       "      <td>잘 익은 베리류의 과일맛과 약간의 버섯향과 함께 롱 피니쉬가 특징이다.</td>\n",
       "      <td>Joseph Drouhin</td>\n",
       "      <td>밝은 석류빛</td>\n",
       "      <td>소스에 절인 고기류, 매운 한국 음식, 진한 치즈 등</td>\n",
       "      <td>최상의 빈티지 2009년산으로 샤샤뉴몽라쉐 화이트만큼 유명</td>\n",
       "    </tr>\n",
       "    <tr>\n",
       "      <th>515</th>\n",
       "      <td>J.D 샤샤뉴몽라쉐 블랑</td>\n",
       "      <td>http://www.wine.co.kr/upload/products/wineList...</td>\n",
       "      <td>1만원대 (0~2만원)</td>\n",
       "      <td>13.0%</td>\n",
       "      <td>750ml</td>\n",
       "      <td>White</td>\n",
       "      <td>Dry</td>\n",
       "      <td>샤도네이</td>\n",
       "      <td>프랑스, 부르고뉴, 꼬뜨 드 본</td>\n",
       "      <td>구운 레몬, 약간의 꽃향기, 구운 헤이즐넛, 향신료 향</td>\n",
       "      <td>입안 머금자마자 바로 신선한 산도가 느껴지며 꽃향기와 약간의 생강 맛이 느껴진다</td>\n",
       "      <td>Joseph Drouhin</td>\n",
       "      <td>밝은 황금색</td>\n",
       "      <td>신선한 굴, 회, 각종 해산물 등</td>\n",
       "      <td>부르고뉴의 명가 조셉드루앙은 화이트 와인을 잘 만들어 내기로 유명하다.</td>\n",
       "    </tr>\n",
       "  </tbody>\n",
       "</table>\n",
       "</div>"
      ],
      "text/plain": [
       "              title                                           img_link  \\\n",
       "514  J.D 샤샤뉴 몽라쉐 루즈  http://www.wine.co.kr/upload/products/wineList...   \n",
       "515   J.D 샤샤뉴몽라쉐 블랑  http://www.wine.co.kr/upload/products/wineList...   \n",
       "\n",
       "       price_range alcohol   size wine_type sweetness grape_type  \\\n",
       "514  1만원대 (0~2만원)    13.0%  750ml       Red       Dry       피노누아   \n",
       "515  1만원대 (0~2만원)    13.0%  750ml     White       Dry       샤도네이   \n",
       "\n",
       "               country                           aroma  \\\n",
       "514  프랑스, 부르고뉴, 꼬뜨 드 본                     잘 익은 붉은 과실향   \n",
       "515  프랑스, 부르고뉴, 꼬뜨 드 본  구운 레몬, 약간의 꽃향기, 구운 헤이즐넛, 향신료 향   \n",
       "\n",
       "                                           flavor          winery   color  \\\n",
       "514       잘 익은 베리류의 과일맛과 약간의 버섯향과 함께 롱 피니쉬가 특징이다.  Joseph Drouhin  밝은 석류빛   \n",
       "515  입안 머금자마자 바로 신선한 산도가 느껴지며 꽃향기와 약간의 생강 맛이 느껴진다  Joseph Drouhin  밝은 황금색   \n",
       "\n",
       "                      food_pairing                                   charms  \n",
       "514  소스에 절인 고기류, 매운 한국 음식, 진한 치즈 등         최상의 빈티지 2009년산으로 샤샤뉴몽라쉐 화이트만큼 유명  \n",
       "515             신선한 굴, 회, 각종 해산물 등  부르고뉴의 명가 조셉드루앙은 화이트 와인을 잘 만들어 내기로 유명하다.  "
      ]
     },
     "execution_count": 306,
     "metadata": {},
     "output_type": "execute_result"
    }
   ],
   "source": [
    "pages = 43\n",
    "\n",
    "result = []\n",
    "\n",
    "for i in range(pages):\n",
    "    url = \"http://www.wine.co.kr/wine/mine?p={}\".format(i)\n",
    "    req = requests.get(url)\n",
    "    response = TextResponse(req.url, body=req.text, encoding = \"utf-8\")\n",
    "    links = response.xpath('//*[@id=\"content\"]/div/div[2]/ul/li/div[4]/div[2]/a/@href').extract()\n",
    "    \n",
    "    for n in range(len(links)):\n",
    "        datas = 'http://www.wine.co.kr' + links[n]\n",
    "    \n",
    "        req = requests.get(datas)\n",
    "        response = TextResponse(req.url, body=req.text, encoding = \"utf-8\")\n",
    "        try:\n",
    "            result.append({\n",
    "                \"title\": response.xpath('//*[@id=\"wineKorName\"]/text()')[0].extract(),\n",
    "                \"img_link\": 'http://www.wine.co.kr' + response.xpath('//*[@id=\"wineMainImage\"]/@src')[0].extract(),\n",
    "                'price_range': response.xpath('//*[@id=\"beginner\"]/div[2]/div[3]/div/div/span[2]/label/em/text()')[0].extract(),\n",
    "                \"alcohol\": response.xpath('//*[@id=\"content\"]/div/section/div[1]/div[2]/div[2]/ul/li[1]/strong/span/text()')[0].extract(),\n",
    "                \"size\": response.xpath('//*[@id=\"content\"]/div/section/div[1]/div[2]/div[2]/ul/li[2]/strong/span/text()')[0].extract(),\n",
    "                \"wine_type\": response.xpath('//*[@id=\"content\"]/div/section/div[1]/div[2]/div[2]/ul/li[3]/strong/span/text()')[0].extract(), \n",
    "                \"sweetness\": response.xpath('//*[@id=\"content\"]/div/section/div[1]/div[2]/div[2]/ul/li[5]/strong/span/text()')[0].extract(),\n",
    "                \"grape_type\": response.xpath('//*[@id=\"content\"]/div/section/div[3]/div[1]/dl[1]/dd/text()')[1].extract().strip(), \n",
    "                \"country\": response.xpath('//*[@id=\"content\"]/div/section/div[3]/div[2]/dl[1]/dd/text()')[1].extract().strip(),\n",
    "                \"aroma\": response.xpath('//*[@id=\"content\"]/div/section/div[3]/div[3]/dl[1]/dd/text()')[1].extract().strip(),\n",
    "                \"flavor\": response.xpath('//*[@id=\"content\"]/div/section/div[3]/div[4]/dl[1]/dd/text()')[1].extract().strip(),\n",
    "                \"winery\": response.xpath('//*[@id=\"content\"]/div/section/div[3]/div[1]/dl[2]/dd/text()')[1].extract().strip(),\n",
    "                'color' : response.xpath('//*[@id=\"content\"]/div/section/div[3]/div[2]/dl[2]/dd/text()')[1].extract().strip(),\n",
    "                \"food_pairing\": response.xpath('//*[@id=\"content\"]/div/section/div[3]/div[3]/dl[2]/dd/text()')[1].extract().strip(), \n",
    "                \"charms\": response.xpath('//*[@id=\"content\"]/div/section/div[3]/div[4]/dl[2]/dd/text()')[1].extract().strip()\n",
    "        })\n",
    "        except:\n",
    "            result.append({\n",
    "                \"title\": response.xpath('//*[@id=\"wineKorName\"]/text()')[0].extract(),\n",
    "                \"img_link\": 'http://www.wine.co.kr' + response.xpath('//*[@id=\"wineMainImage\"]/@src')[0].extract(),\n",
    "                'price_range': response.xpath('//*[@id=\"beginner\"]/div[2]/div[3]/div/div/span[2]/label/em/text()')[0].extract(),\n",
    "                \"alcohol\": response.xpath('//*[@id=\"content\"]/div/section/div[1]/div[2]/div[2]/ul/li[1]/strong/span/text()')[0].extract(),\n",
    "                \"size\": 0,\n",
    "                \"wine_type\": response.xpath('//*[@id=\"content\"]/div/section/div[1]/div[2]/div[2]/ul/li[3]/strong/span/text()')[0].extract(), \n",
    "                \"sweetness\": response.xpath('//*[@id=\"content\"]/div/section/div[1]/div[2]/div[2]/ul/li[5]/strong/span/text()')[0].extract(),\n",
    "                \"grape_type\": response.xpath('//*[@id=\"content\"]/div/section/div[3]/div[1]/dl[1]/dd/text()')[1].extract().strip(), \n",
    "                \"country\": response.xpath('//*[@id=\"content\"]/div/section/div[3]/div[2]/dl[1]/dd/text()')[1].extract().strip(),\n",
    "                \"aroma\": response.xpath('//*[@id=\"content\"]/div/section/div[3]/div[3]/dl[1]/dd/text()')[1].extract().strip(),\n",
    "                \"flavor\": response.xpath('//*[@id=\"content\"]/div/section/div[3]/div[4]/dl[1]/dd/text()')[1].extract().strip(),\n",
    "                \"winery\": response.xpath('//*[@id=\"content\"]/div/section/div[3]/div[1]/dl[2]/dd/text()')[1].extract().strip(),\n",
    "                'color' : response.xpath('//*[@id=\"content\"]/div/section/div[3]/div[2]/dl[2]/dd/text()')[1].extract().strip(),\n",
    "                \"food_pairing\": response.xpath('//*[@id=\"content\"]/div/section/div[3]/div[3]/dl[2]/dd/text()')[1].extract().strip(), \n",
    "                \"charms\": response.xpath('//*[@id=\"content\"]/div/section/div[3]/div[4]/dl[2]/dd/text()')[1].extract().strip()\n",
    "        })\n",
    "            \n",
    "\n",
    "items_df = pd.DataFrame(result)\n",
    "items_df.tail(2)"
   ]
  },
  {
   "cell_type": "code",
   "execution_count": 307,
   "metadata": {
    "ExecuteTime": {
     "end_time": "2020-10-24T15:28:57.508078Z",
     "start_time": "2020-10-24T15:28:57.472285Z"
    },
    "scrolled": true
   },
   "outputs": [
    {
     "data": {
      "text/html": [
       "<div>\n",
       "<style scoped>\n",
       "    .dataframe tbody tr th:only-of-type {\n",
       "        vertical-align: middle;\n",
       "    }\n",
       "\n",
       "    .dataframe tbody tr th {\n",
       "        vertical-align: top;\n",
       "    }\n",
       "\n",
       "    .dataframe thead th {\n",
       "        text-align: right;\n",
       "    }\n",
       "</style>\n",
       "<table border=\"1\" class=\"dataframe\">\n",
       "  <thead>\n",
       "    <tr style=\"text-align: right;\">\n",
       "      <th></th>\n",
       "      <th>title</th>\n",
       "      <th>img_link</th>\n",
       "      <th>price_range</th>\n",
       "      <th>alcohol</th>\n",
       "      <th>size</th>\n",
       "      <th>wine_type</th>\n",
       "      <th>sweetness</th>\n",
       "      <th>grape_type</th>\n",
       "      <th>country</th>\n",
       "      <th>aroma</th>\n",
       "      <th>flavor</th>\n",
       "      <th>winery</th>\n",
       "      <th>color</th>\n",
       "      <th>food_pairing</th>\n",
       "      <th>charms</th>\n",
       "    </tr>\n",
       "  </thead>\n",
       "  <tbody>\n",
       "    <tr>\n",
       "      <th>311</th>\n",
       "      <td>옐로우테일멜롯 187</td>\n",
       "      <td>http://www.wine.co.kr/upload/products/wineList...</td>\n",
       "      <td>1만원대 (0~2만원)</td>\n",
       "      <td>13.5%</td>\n",
       "      <td>0</td>\n",
       "      <td>Red</td>\n",
       "      <td>Dry</td>\n",
       "      <td>멜롯</td>\n",
       "      <td>호주, 뉴사우스웨일즈</td>\n",
       "      <td>잘익은 자두, 딸기, 미세한 바닐라 오크향</td>\n",
       "      <td>멜롯 품종 100%로서 멜롯 품종의 부드러움을 한껏 느낄 수있는 와인으로 잘 익은 ...</td>\n",
       "      <td>[yellow tail]</td>\n",
       "      <td>진한 석류빛</td>\n",
       "      <td>붉은 육류 요리, 양고기, 숯불 구이 연어, 참치, 치즈</td>\n",
       "      <td>중앙일보 주관 제5회 와인 컨슈머 리포트 애호가 평가 2위</td>\n",
       "    </tr>\n",
       "  </tbody>\n",
       "</table>\n",
       "</div>"
      ],
      "text/plain": [
       "           title                                           img_link  \\\n",
       "311  옐로우테일멜롯 187  http://www.wine.co.kr/upload/products/wineList...   \n",
       "\n",
       "       price_range alcohol size wine_type sweetness grape_type      country  \\\n",
       "311  1만원대 (0~2만원)    13.5%    0       Red       Dry         멜롯  호주, 뉴사우스웨일즈   \n",
       "\n",
       "                       aroma  \\\n",
       "311  잘익은 자두, 딸기, 미세한 바닐라 오크향   \n",
       "\n",
       "                                                flavor         winery   color  \\\n",
       "311  멜롯 품종 100%로서 멜롯 품종의 부드러움을 한껏 느낄 수있는 와인으로 잘 익은 ...  [yellow tail]  진한 석류빛   \n",
       "\n",
       "                        food_pairing                            charms  \n",
       "311  붉은 육류 요리, 양고기, 숯불 구이 연어, 참치, 치즈  중앙일보 주관 제5회 와인 컨슈머 리포트 애호가 평가 2위  "
      ]
     },
     "execution_count": 307,
     "metadata": {},
     "output_type": "execute_result"
    }
   ],
   "source": [
    "items_df[items_df['size'] == 0] "
   ]
  },
  {
   "cell_type": "code",
   "execution_count": null,
   "metadata": {},
   "outputs": [],
   "source": []
  },
  {
   "cell_type": "code",
   "execution_count": null,
   "metadata": {},
   "outputs": [],
   "source": []
  },
  {
   "cell_type": "code",
   "execution_count": null,
   "metadata": {},
   "outputs": [],
   "source": []
  },
  {
   "cell_type": "code",
   "execution_count": null,
   "metadata": {},
   "outputs": [],
   "source": []
  },
  {
   "cell_type": "code",
   "execution_count": null,
   "metadata": {},
   "outputs": [],
   "source": []
  },
  {
   "cell_type": "code",
   "execution_count": null,
   "metadata": {},
   "outputs": [],
   "source": []
  },
  {
   "cell_type": "code",
   "execution_count": null,
   "metadata": {},
   "outputs": [],
   "source": []
  }
 ],
 "metadata": {
  "kernelspec": {
   "display_name": "Python 3",
   "language": "python",
   "name": "python3"
  },
  "language_info": {
   "codemirror_mode": {
    "name": "ipython",
    "version": 3
   },
   "file_extension": ".py",
   "mimetype": "text/x-python",
   "name": "python",
   "nbconvert_exporter": "python",
   "pygments_lexer": "ipython3",
   "version": "3.7.7"
  },
  "toc": {
   "base_numbering": 1,
   "nav_menu": {},
   "number_sections": true,
   "sideBar": true,
   "skip_h1_title": false,
   "title_cell": "Table of Contents",
   "title_sidebar": "Contents",
   "toc_cell": false,
   "toc_position": {},
   "toc_section_display": true,
   "toc_window_display": false
  },
  "varInspector": {
   "cols": {
    "lenName": 16,
    "lenType": 16,
    "lenVar": 40
   },
   "kernels_config": {
    "python": {
     "delete_cmd_postfix": "",
     "delete_cmd_prefix": "del ",
     "library": "var_list.py",
     "varRefreshCmd": "print(var_dic_list())"
    },
    "r": {
     "delete_cmd_postfix": ") ",
     "delete_cmd_prefix": "rm(",
     "library": "var_list.r",
     "varRefreshCmd": "cat(var_dic_list()) "
    }
   },
   "types_to_exclude": [
    "module",
    "function",
    "builtin_function_or_method",
    "instance",
    "_Feature"
   ],
   "window_display": false
  }
 },
 "nbformat": 4,
 "nbformat_minor": 4
}
