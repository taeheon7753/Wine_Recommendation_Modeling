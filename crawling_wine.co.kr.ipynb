{
 "cells": [
  {
   "cell_type": "code",
   "execution_count": null,
   "metadata": {},
   "outputs": [],
   "source": []
  },
  {
   "cell_type": "code",
   "execution_count": 3,
   "metadata": {},
   "outputs": [],
   "source": [
    "import requests\n",
    "from bs4 import BeautifulSoup"
   ]
  },
  {
   "cell_type": "code",
   "execution_count": 4,
   "metadata": {},
   "outputs": [],
   "source": [
    "# Document 가져오기\n",
    "def get_document(price, alcohol_level):\n",
    "    url = 'http://www.wine.co.kr/wine/mine'\n",
    "    params = {\n",
    "        'level': 'expert',\n",
    "        'price-apply': price,\n",
    "        'winery-apply': 'on',\n",
    "        'alcohol-apply': alcohol_level,\n",
    "        'volume-apply': 750,\n",
    "        'page': 1\n",
    "# sort: NOTATION\n",
    "    }\n",
    "    response = requests.post(url, params)\n",
    "    return BeautifulSoup(response.content, \"html.parser\")"
   ]
  },
  {
   "cell_type": "code",
   "execution_count": 5,
   "metadata": {},
   "outputs": [
    {
     "data": {
      "text/plain": [
       "<!DOCTYPE html>\n",
       " <!--[if IE 7]><html lang=\"ko\" class=\"ie7\"><![endif]--> <!--[if IE 8]><html lang=\"ko\" class=\"ie8\"><![endif]--> <!--[if IE 9]><html lang=\"ko\" class=\"ie9\"><![endif]--> <!--[if gt IE 9]> --> <html lang=\"ko\"> <!--<![endif]--> <head> <meta content=\"IE=Edge\" http-equiv=\"X-UA-Compatible\"/> <meta content=\"text/html; charset=utf-8\" http-equiv=\"Content-Type\"/> <meta content=\"롯데와인,롯데주류,롯데칠성 주류\" name=\"keywords\"/> <meta content=\"롯데와인(WINE EXPERT)\" name=\"description\"/> <meta content=\"Lotte Wine\" property=\"og:title\"/> <meta content=\"롯데와인(WINE EXPERT)\" property=\"og:site_name\"/> <meta content=\"http://www.wine.co.kr\" property=\"og:url\"/> <meta content=\"롯데와인(WINE EXPERT)\" property=\"og:description\"/> <link href=\"/images/favicon32x32.png.ico\" rel=\"shortcut icon\" type=\"image/x-icon\"/> <title>My Wine | LOTTE WINE</title> <link href=\"/inc/css/font.css\" rel=\"stylesheet\" type=\"text/css\"> <link href=\"/inc/css/reset.css\" rel=\"stylesheet\" type=\"text/css\"/> <link href=\"/inc/css/common.css\" rel=\"stylesheet\" type=\"text/css\"/> <link href=\"/inc/css/contents.css\" rel=\"stylesheet\" type=\"text/css\"/> <link href=\"/inc/css/jquery.jscrollpane.css\" rel=\"stylesheet\" type=\"text/css\"/> <script charset=\"utf-8\" src=\"/inc/js/lib/jquery-1.12.4.min.js\" type=\"text/javascript\"></script> <script charset=\"utf-8\" src=\"/inc/js/normal/common.js\" type=\"text/javascript\"></script> <script charset=\"utf-8\" src=\"/inc/js/lib/jquery.mousewheel-3.1.13.min.js\" type=\"text/javascript\"></script> <script charset=\"utf-8\" src=\"/inc/js/lib/jquery.jscrollpane-2.0.23.min.js\" type=\"text/javascript\"></script> <script charset=\"utf-8\" src=\"/inc/js/lib/jquery.dotdotdot-1.8.2.min.js\" type=\"text/javascript\"></script> <script charset=\"utf-8\" src=\"/inc/js/normal/app-1.0.0.js\" type=\"text/javascript\"></script> <link href=\"/inc/css/nanumsquare.css\" rel=\"stylesheet\" type=\"text/css\"/> <script src=\"//ajax.googleapis.com/ajax/libs/webfont/1.4.7/webfont.js\"></script> <link href=\"https://fonts.googleapis.com/css?family=Lato%7CNoto+Sans%7CNoto+Sans+KR\" rel=\"stylesheet\"/> </link></head> <body> <!--[if lte IE 8]><p class=\"browserupgrade\">You are using an <strong>outdated</strong> browser. Please <a href=\"http://browsehappy.com/\">upgrade your browser</a> to improve your experience.</p><![endif]--> <div class=\"\" id=\"wrap\"> <ul class=\"skipnav\"> <li> <a href=\"#container\">본문 바로가기</a> </li> </ul> <h2 class=\"hide_txt\">주요 메뉴 영역</h2> <div id=\"header\"> <div class=\"header_content clfix\"> <h1> <a href=\"/main\"> <img alt=\"LOTTE WINE expert\" src=\"/images/common/h1_logo.png\"/> </a> </h1> <div id=\"gnb\"> <ul class=\"clfix\"> <li> <a href=\"/monthly\">이달의 와인</a> </li> <li> <a href=\"/new\">신제품</a> </li> <li> <a href=\"/wine\">와인 List</a> </li> <li> <a href=\"/news\">와인 뉴스</a> </li> <li> <a href=\"/brand\">브랜드 소개</a> </li> </ul> </div> <div class=\"smart_search\"> <a href=\"#\" onclick=\"return false;\"> <span class=\"hide_txt\">smart search</span> </a> </div> </div> <section id=\"bx_smart_search\"> <div class=\"smart_inner\"> <div class=\"smart_header\"> <div class=\"smart_header_inner\"> <h1> <a href=\"/main\"> <img alt=\"LOTTE WINE expert\" src=\"/images/common/h1_logo.png\"/> </a> </h1> <a class=\"close\" href=\"#\" onclick=\"return false;\"> <img alt=\"Smart Search 닫기\" src=\"/images/common/img_smartsearch_close.png\"/> </a> </div> </div> <div class=\"smart_cont_wrap\"> <div class=\"bx_cont\" id=\"intro\" style=\"display:block;\"> <div class=\"intro_tit\"> <p>나에게 맞는 <span>Wine</span>이 궁금하세요?<br/>SMART SEARCH로 내게 딱 맞는 <span>Wine</span>을 찾아보세요.</p> </div> <div class=\"smart_cont\"> <ul class=\"intro_wrap clfix\"> <li class=\"type01\"> <a data-type=\"beginner\" href=\"#\" onclick=\"return false;\"> <span class=\"img\"></span> <em>WINE BEGINNER <span>와인 초보자</span> </em> <span class=\"txt\">와인 앞에만 서면 작아지는 나..<br/>와인을 시작하는 단계라면!</span> </a> </li> <li class=\"type02\"> <a data-type=\"expert\" href=\"#\" onclick=\"return false;\"> <span class=\"img\"></span> <em>WINE EXPERT <span>와인 애호가</span> </em> <span class=\"txt\">와인을 사랑하고<br/>즐길 줄 아는 단계라면!</span> </a> </li> <li class=\"type03\"> <a href=\"#\" onclick=\"return false;\"> <span class=\"img\"></span> <em>WINE THEME <span>와인 테마별</span> </em> <span class=\"txt\">8가지 테마로<br/>와인을 즐기고 싶다면!</span> </a> </li> </ul> </div> </div> <div class=\"bx_cont\" id=\"beginner\"> <div class=\"smart_tit\"> <h2>WINE BEGINNER</h2> <span>와인 초보자</span> <a href=\"#\" onclick=\"return false;\">처음으로</a> </div> <div class=\"smart_cont\"> <div class=\"step_wrap step01\" style=\"display:block;\"> <p class=\"copy\">Q1. 원하시는 와인의 단 맛과 진한 맛(탄닌)을 선택해주세요.</p> <div class=\"form_beginner\"> <div class=\"form_wrap\"> <span class=\"input_radio\"> <input checked=\"checked\" class=\"_default-option\" id=\"be00\" name=\"tasty\" type=\"radio\" value=\"_ALL_\"/> <label for=\"be00\"> <span class=\"radio_checked\"></span> <em class=\"color01\">모든 맛 </em> </label> </span> <span class=\"input_radio\"> <input id=\"be01\" name=\"tasty\" type=\"radio\" value=\"Semi-sweet\"/> <label for=\"be01\"> <span></span> <em class=\"color02\">달고 깔끔한 맛 (Semi-sweet)</em> </label> </span> <span class=\"input_radio\"> <input id=\"be02\" name=\"tasty\" type=\"radio\" value=\"Medium-dry\"/> <label for=\"be02\"> <span></span> <em class=\"color03\">달지 않고 깔끔한 맛 (Medium-dry)</em> </label> </span> <span class=\"input_radio\"> <input id=\"be03\" name=\"tasty\" type=\"radio\" value=\"Medium-sweet\"/> <label for=\"be03\"> <span></span> <em class=\"color04\">달지만 깊고 진한 맛 (Medium-sweet)</em> </label> </span> <span class=\"input_radio\"> <input id=\"be04\" name=\"tasty\" type=\"radio\" value=\"Dry\"/> <label for=\"be04\"> <span></span> <em class=\"color05\">달지 않고 깊고 진한 맛 (Dry)</em> </label> </span> <span class=\"input_radio\"> <input id=\"be05\" name=\"tasty\" type=\"radio\" value=\"Sweet\"/> <label for=\"be05\"> <span></span> <em class=\"color06\">매우 단맛 (Sweet)</em> </label> </span> </div> </div> </div> <div class=\"step_wrap step02\"> <p class=\"copy\">Q2. 원하시는 와인 타입을 선택해주세요.</p> <div class=\"form_beginner\"> <div class=\"form_wrap\"> <span class=\"input_radio\"> <input checked=\"checked\" class=\"_default-option\" id=\"cl00\" name=\"b_color\" type=\"radio\" value=\"_ALL_\"/> <label for=\"cl00\"> <span class=\"radio_checked\"></span> <em class=\"color01\">모든 컬러 </em> </label> </span> <span class=\"input_radio\"> <input id=\"cl01\" name=\"b_color\" type=\"radio\" value=\"red\"/> <label for=\"cl01\"> <span></span> <em class=\"color02\">레드 와인 </em> </label> </span> <span class=\"input_radio\"> <input id=\"cl02\" name=\"b_color\" type=\"radio\" value=\"rose\"/> <label for=\"cl02\"> <span></span> <em class=\"color03\">로제 와인 </em> </label> </span> <span class=\"input_radio\"> <input id=\"cl03\" name=\"b_color\" type=\"radio\" value=\"white\"/> <label for=\"cl03\"> <span></span> <em class=\"color04\">화이트 와인 </em> </label> </span> <span class=\"input_radio\"> <input id=\"cl04\" name=\"b_color\" type=\"radio\" value=\"sparkling\"/> <label for=\"cl04\"> <span></span> <em class=\"color05\">스파클링 와인 </em> </label> </span> <span class=\"input_radio\"> <input id=\"cl05\" name=\"b_color\" type=\"radio\" value=\"other\"/> <label for=\"cl05\"> <span></span> <em class=\"color06\">기타 와인 </em> </label> </span> </div> </div> </div> <div class=\"step_wrap step03\"> <p class=\"copy\">Q3. 원하시는 가격대를 선택해주세요. <span>* 판매처에 따라 와인 가격이 상이할 수 있습니다. 참고 바랍니다.</span> </p> <div class=\"form_beginner\"> <div class=\"form_wrap\"> <span class=\"input_radio\"> <input checked=\"checked\" class=\"_default-option\" id=\"pa00\" name=\"b_price\" type=\"radio\" value=\"_ALL_\"/> <label for=\"pa00\"> <span class=\"radio_checked\"></span> <em class=\"color01\">모든 가격 </em> </label> </span> <span class=\"input_radio\"> <input id=\"pa01\" name=\"b_price\" type=\"radio\" value=\"1\"/> <label for=\"pa01\"> <span></span> <em class=\"color02\">1만원대 (0~2만원) </em> </label> </span> <span class=\"input_radio\"> <input id=\"pa02\" name=\"b_price\" type=\"radio\" value=\"3\"/> <label for=\"pa02\"> <span></span> <em class=\"color03\">3만원대 (2~4만원) </em> </label> </span> <span class=\"input_radio\"> <input id=\"pa03\" name=\"b_price\" type=\"radio\" value=\"5\"/> <label for=\"pa03\"> <span></span> <em class=\"color04\">5만원대 (4~9만원) </em> </label> </span> <span class=\"input_radio\"> <input id=\"pa04\" name=\"b_price\" type=\"radio\" value=\"10\"/> <label for=\"pa04\"> <span></span> <em class=\"color05\">10만원대 (9~15만원) </em> </label> </span> <span class=\"input_radio\"> <input id=\"pa05\" name=\"b_price\" type=\"radio\" value=\"15\"/> <label for=\"pa05\"> <span></span> <em class=\"color06\">15만원 이상 </em> </label> </span> </div> </div> </div> </div> <div class=\"smart_next_step\"> <form action=\"/wine/mine\" method=\"post\"> <input name=\"level\" type=\"hidden\" value=\"beginner\"/> <div class=\"select_txt _search-filter-choice\"> </div> </form> <div class=\"btn_area\"> <a class=\"ui_prev_page btn_line38wh\" href=\"#\" onclick=\"return false;\"> <span class=\"ico prev\"></span>이전</a> <a class=\"ui_next_page btn_line38wh\" href=\"#\" onclick=\"return false;\">다음 <span class=\"ico next\"></span> </a> <a class=\"btn_line38wh result\" href=\"#\" id=\"beginner-mine\" onclick=\"return false;\">결과 보기 <span class=\"ico result\"></span> </a> </div> </div> </div> <div class=\"bx_cont\" id=\"expert\"> <div class=\"smart_tit\"> <h2>WINE EXPERT</h2> <span>와인 애호가</span> <a href=\"#\" onclick=\"return false;\">처음으로</a> </div> <div class=\"smart_cont\"> <form action=\"/wine/mine\" method=\"post\"> <input name=\"level\" type=\"hidden\" value=\"expert\"/> <div class=\"ss_search clfix\"> <div class=\"ss_search_form\"> <span class=\"ip_txt\"> <input data-required=\"와인명을 입력하세요.\" id=\"expert-name-apply\" name=\"name-apply\" placeholder=\"와인명을 입력하세요.\" title=\"와인명을 입력\" type=\"text\"/> </span> </div> <a class=\"btns btn_wine_search\" href=\"#\" id=\"expert-by-name\" onclick=\"return false;\"> <span class=\"ico glass\"></span>와인명 검색 </a> <p>* 하단 와인 속성 항목과 무관하게 와인명만 검색 가능합니다.</p> </div> </form> <div class=\"expert_wrap\"> <div class=\"step pdt0\"> <h3>Price <span role=\"text\">* 판매처에 따라 와인 가격이 상이할 수 있습니다. 참고 바랍니다.</span> </h3> <div class=\"price_radio_wrap\"> <div class=\"step_bar step01\"></div> <div class=\"step_radio\"> <input checked=\"checked\" class=\"pointer01 _default-option\" id=\"pr01\" name=\"e_price\" type=\"radio\" value=\"1\"/> <label class=\"on\" for=\"pr01\">1만원대 (0~2만원)</label> <input class=\"pointer02\" id=\"pr02\" name=\"e_price\" type=\"radio\" value=\"3\"/> <label for=\"pr02\">3만원대 (2~4만원)</label> <input class=\"pointer03\" id=\"pr03\" name=\"e_price\" type=\"radio\" value=\"5\"/> <label for=\"pr03\">5만원대 (4~9만원)</label> <input class=\"pointer04\" id=\"pr04\" name=\"e_price\" type=\"radio\" value=\"10\"/> <label for=\"pr04\">10만원대 (9~15만원)</label> <input class=\"pointer05\" id=\"pr05\" name=\"e_price\" type=\"radio\" value=\"15\"/> <label for=\"pr05\">15만원 이상</label> </div> </div> </div> <div class=\"step clfix pdb15\"> <div class=\"country_radio_wrap\"> <h3>Country</h3> <div class=\"country_radio\"> <span class=\"input_radio\"> <input checked=\"checked\" class=\"_default-option\" data-hash=\"전체 국가\" id=\"ct00\" name=\"e_country\" type=\"radio\" value=\"\"/> <label class=\"ct01\" for=\"ct00\"> <span class=\"radio_checked\"></span> <em>전체</em> </label> </span> <span class=\"input_radio\"> <input class=\"\" id=\"ct01\" name=\"e_country\" type=\"radio\" value=\"france\"/> <label class=\"ct02\" for=\"ct01\"> <span></span> <em>프랑스</em> </label> </span> <span class=\"input_radio\"> <input class=\"\" id=\"ct02\" name=\"e_country\" type=\"radio\" value=\"italy\"/> <label class=\"ct03\" for=\"ct02\"> <span></span> <em>이탈리아</em> </label> </span> <span class=\"input_radio\"> <input class=\"\" id=\"ct03\" name=\"e_country\" type=\"radio\" value=\"spain\"/> <label class=\"ct04\" for=\"ct03\"> <span></span> <em>스페인</em> </label> </span> <span class=\"input_radio\"> <input class=\"\" id=\"ct04\" name=\"e_country\" type=\"radio\" value=\"germany\"/> <label class=\"ct05\" for=\"ct04\"> <span></span> <em>독일</em> </label> </span> <span class=\"input_radio\"> <input class=\"\" id=\"ct05\" name=\"e_country\" type=\"radio\" value=\"usa\"/> <label class=\"ct06\" for=\"ct05\"> <span></span> <em>미국</em> </label> </span> <span class=\"input_radio\"> <input class=\"\" id=\"ct06\" name=\"e_country\" type=\"radio\" value=\"chile\"/> <label class=\"ct07\" for=\"ct06\"> <span></span> <em>칠레</em> </label> </span> <span class=\"input_radio\"> <input class=\"\" id=\"ct07\" name=\"e_country\" type=\"radio\" value=\"australia\"/> <label class=\"ct08\" for=\"ct07\"> <span></span> <em>호주</em> </label> </span> <span class=\"input_radio\"> <input class=\"\" id=\"ct08\" name=\"e_country\" type=\"radio\" value=\"canada\"/> <label class=\"ct09\" for=\"ct08\"> <span></span> <em>캐나다</em> </label> </span> <span class=\"input_radio\"> <input class=\"\" id=\"ct09\" name=\"e_country\" type=\"radio\" value=\"new_zealand\"/> <label class=\"ct10\" for=\"ct09\"> <span></span> <em>뉴질랜드</em> </label> </span> <span class=\"input_radio\"> <input class=\"\" id=\"ct10\" name=\"e_country\" type=\"radio\" value=\"argentina\"/> <label class=\"ct11\" for=\"ct10\"> <span></span> <em>아르헨티나</em> </label> </span> <span class=\"input_radio\"> <input class=\"\" id=\"ct11\" name=\"e_country\" type=\"radio\" value=\"south_africa\"/> <label class=\"ct12\" for=\"ct11\"> <span></span> <em>남아공</em> </label> </span> <span class=\"input_radio\"> <input class=\"\" id=\"ct12\" name=\"e_country\" type=\"radio\" value=\"korea\"/> <label class=\"ct13\" for=\"ct12\"> <span></span> <em>한국</em> </label> </span> </div> </div> <div class=\"winery_radio_wrap\"> <h3>Winery</h3> <div class=\"winery_radio bx_radio scroll-pane\"> <ul class=\"clfix _winery-wrap\"> <li> <span class=\"input_radio\"> <input checked=\"checked\" class=\"_default-option\" data-hash=\"전체 와이너리\" id=\"wi01_d\" name=\"winery\" type=\"radio\"/> <label for=\"wi01_d\"> <span class=\"radio_checked\"></span> <em>전체</em> </label> </span> </li> </ul> </div> </div> </div> <div class=\"step clfix\"> <h3>Wine Type</h3> <div class=\"wine_radio_wrap wrap01\"> <h4>와인 종류</h4> <div> <span class=\"input_radio\"> <input class=\"\" id=\"wt00\" name=\"e_color\" type=\"radio\" value=\"red\"/> <label class=\"ty01\" for=\"wt00\"> <span></span> <em>Red</em> </label> </span> <span class=\"input_radio\"> <input class=\"\" id=\"wt01\" name=\"e_color\" type=\"radio\" value=\"rose\"/> <label class=\"ty02\" for=\"wt01\"> <span></span> <em>Rose</em> </label> </span> <span class=\"input_radio\"> <input class=\"\" id=\"wt02\" name=\"e_color\" type=\"radio\" value=\"white\"/> <label class=\"ty03\" for=\"wt02\"> <span></span> <em>White</em> </label> </span> </div> </div> <div class=\"wine_radio_wrap wrap02\"> <h4>탄산 종류</h4> <div> <span class=\"input_radio\"> <input class=\"\" id=\"sp00\" name=\"e_sparkling\" type=\"radio\" value=\"still\"/> <label class=\"sp01\" for=\"sp00\"> <span></span> <em>Still</em> </label> </span> <span class=\"input_radio\"> <input class=\"\" id=\"sp01\" name=\"e_sparkling\" type=\"radio\" value=\"sparkling\"/> <label class=\"sp02\" for=\"sp01\"> <span></span> <em>Sparkling</em> </label> </span> </div> </div> <div class=\"wine_radio_wrap wrap03\"> <h4>당도 종류</h4> <div> <span class=\"input_radio\"> <input class=\"\" id=\"sw00\" name=\"e_sweet\" type=\"radio\" value=\"sweet\"/> <label class=\"sw01\" for=\"sw00\"> <span></span> <em>Sweet</em> </label> </span> <span class=\"input_radio\"> <input class=\"\" id=\"sw01\" name=\"e_sweet\" type=\"radio\" value=\"normal\"/> <label class=\"sw02\" for=\"sw01\"> <span></span> <em>Normal</em> </label> </span> <span class=\"input_radio\"> <input class=\"\" id=\"sw02\" name=\"e_sweet\" type=\"radio\" value=\"dry\"/> <label class=\"sw03\" for=\"sw02\"> <span></span> <em>Dry</em> </label> </span> </div> </div> </div> <div class=\"step clfix bdb0\"> <h3>Detail</h3> <div class=\"detail_radio_wrap01\"> <h4>알코올 도수</h4> <div class=\"detail_radio\"> <div class=\"step_bar step05\"></div> <div class=\"step_radio\"> <input class=\"pointer01\" id=\"al00\" name=\"e_alcohol\" type=\"radio\" value=\"0\"/> <label for=\"al00\">0%</label> <input class=\"pointer02\" data-hash=\"~5%\" id=\"al01\" name=\"e_alcohol\" type=\"radio\" value=\"5\"/> <label for=\"al01\">5%</label> <input class=\"pointer03\" data-hash=\"~10%\" id=\"al02\" name=\"e_alcohol\" type=\"radio\" value=\"10\"/> <label for=\"al02\">10%</label> <input class=\"pointer04\" data-hash=\"~15%\" id=\"al03\" name=\"e_alcohol\" type=\"radio\" value=\"15\"/> <label for=\"al03\">15%</label> <input checked=\"checked\" class=\"pointer05 _default-option\" data-hash=\"~20%\" id=\"al04\" name=\"e_alcohol\" type=\"radio\" value=\"20\"/> <label class=\"on\" for=\"al04\">20%</label> </div> </div> </div> <div class=\"detail_radio_wrap02\"> <h4>용량</h4> <div class=\"detail_radio bx_radio\"> <ul class=\"clfix\"> <li> <span class=\"input_radio\"> <input checked=\"checked\" class=\"_default-option\" id=\"vol00\" name=\"e_volume\" type=\"radio\" value=\"750\"/> <label for=\"vol00\"> <span class=\"radio_checked\"></span> <em>750ml</em> </label> </span> </li> <li> <span class=\"input_radio\"> <input class=\"\" id=\"vol01\" name=\"e_volume\" type=\"radio\" value=\"500\"/> <label for=\"vol01\"> <span></span> <em>500ml</em> </label> </span> </li> <li> <span class=\"input_radio\"> <input class=\"\" id=\"vol02\" name=\"e_volume\" type=\"radio\" value=\"375\"/> <label for=\"vol02\"> <span></span> <em>375ml</em> </label> </span> </li> <li> <span class=\"input_radio\"> <input class=\"\" id=\"vol03\" name=\"e_volume\" type=\"radio\" value=\"275\"/> <label for=\"vol03\"> <span></span> <em>275ml</em> </label> </span> </li> <li> <span class=\"input_radio\"> <input class=\"\" id=\"vol04\" name=\"e_volume\" type=\"radio\" value=\"187\"/> <label for=\"vol04\"> <span></span> <em>187ml</em> </label> </span> </li> <li> <span class=\"input_radio\"> <input class=\"\" id=\"vol05\" name=\"e_volume\" type=\"radio\" value=\"70\"/> <label for=\"vol05\"> <span></span> <em>70ml</em> </label> </span> </li> <li> <span class=\"input_radio\"> <input class=\"\" id=\"vol06\" name=\"e_volume\" type=\"radio\" value=\"over750\"/> <label for=\"vol06\"> <span></span> <em>750ml 이상</em> </label> </span> </li> </ul> </div> </div> <div class=\"detail_radio_wrap03\"> <h4>포도 품종 <span role=\"text\">* 다중 선택 가능합니다.</span> </h4> <div class=\"detail_radio\"> <span class=\"input_checkbox\"> <input checked=\"checked\" class=\"_default-option _all-option\" data-hash=\"전체 포도 품종\" id=\"va00\" name=\"e_variety\" type=\"checkbox\" value=\"\"/> <label for=\"va00\"> <span class=\"radio_checked\"></span> <em>전체</em> </label> </span> <span class=\"input_checkbox\"> <input class=\"\" id=\"va01\" name=\"e_variety\" type=\"checkbox\" value=\"cabernet-sauvignon\"/> <label for=\"va01\"> <span></span> <em>까버네쇼비뇽</em> </label> </span> <span class=\"input_checkbox\"> <input class=\"\" id=\"va02\" name=\"e_variety\" type=\"checkbox\" value=\"merlot\"/> <label for=\"va02\"> <span></span> <em>멜롯</em> </label> </span> <span class=\"input_checkbox\"> <input class=\"\" id=\"va03\" name=\"e_variety\" type=\"checkbox\" value=\"syrah\"/> <label for=\"va03\"> <span></span> <em>쉬라즈</em> </label> </span> <span class=\"input_checkbox\"> <input class=\"\" id=\"va04\" name=\"e_variety\" type=\"checkbox\" value=\"pinot-noir\"/> <label for=\"va04\"> <span></span> <em>피노누아</em> </label> </span> <span class=\"input_checkbox\"> <input class=\"\" id=\"va05\" name=\"e_variety\" type=\"checkbox\" value=\"chardonnay\"/> <label for=\"va05\"> <span></span> <em>샤도네이</em> </label> </span> <span class=\"input_checkbox\"> <input class=\"\" id=\"va06\" name=\"e_variety\" type=\"checkbox\" value=\"sauvignon-blanc\"/> <label for=\"va06\"> <span></span> <em>쇼비뇽블랑</em> </label> </span> <span class=\"input_checkbox\"> <input class=\"\" id=\"va07\" name=\"e_variety\" type=\"checkbox\" value=\"muscat\"/> <label for=\"va07\"> <span></span> <em>모스가토</em> </label> </span> <span class=\"input_checkbox\"> <input class=\"\" data-hash=\"기타 포도 품종\" id=\"va08\" name=\"e_variety\" type=\"checkbox\" value=\"other\"/> <label for=\"va08\"> <span></span> <em>기타</em> </label> </span> </div> </div> </div> </div> </div> <div class=\"smart_next_step\"> <form action=\"/wine/mine\" method=\"post\"> <input name=\"level\" type=\"hidden\" value=\"expert\"/> <div class=\"select_txt _search-filter-choice\"> </div> </form> <div class=\"btn_area\"> <a class=\"btn_line38wh\" href=\"#\" id=\"expert-reset\" onclick=\"return false;\"> <span class=\"ico reset\"></span>초기화 </a> <a class=\"btn_line38wh result\" href=\"#\" id=\"expert-mine\" onclick=\"return false;\">결과 보기 <span class=\"ico result\"></span> </a> </div> </div> </div> <div class=\"bx_cont\" id=\"theme\"> <div class=\"smart_tit\"> <h2>WINE THEME</h2> <span>와인 테마별</span> <a href=\"#\" onclick=\"return false;\">처음으로</a> </div> <div class=\"smart_cont\"> <p class=\"copy\">원하시는 와인의 테마를 선택해주세요.</p> <div class=\"theme_wrap clfix\"> <ul> <li class=\"thm01\"> <a data-theme=\"LOTTE\" href=\"#\" onclick=\"return false;\">롯데 와인 추천</a> </li> <li class=\"thm02\"> <a data-theme=\"MEDIA\" href=\"#\" onclick=\"return false;\">미디어 추천</a> </li> <li class=\"thm03\"> <a data-theme=\"SPEC\" href=\"#\" onclick=\"return false;\">와인 스펙<br>데이터 추천</br></a> </li> <li class=\"thm04\"> <a data-theme=\"CAMPAIGN\" href=\"#\" onclick=\"return false;\">캠핑용 와인 추천</a> </li> <li class=\"thm05\"> <a data-theme=\"MEMORIAL\" href=\"#\" onclick=\"return false;\">데이트/기념일<br>와인 추천</br></a> </li> <li class=\"thm06\"> <a data-theme=\"GENERAL\" href=\"#\" onclick=\"return false;\">대중적인 와인 추천</a> </li> <li class=\"thm07\"> <a data-theme=\"GIFT\" href=\"#\" onclick=\"return false;\">선물용 와인 추천</a> </li> <li class=\"thm08\"> <a data-theme=\"AWARD\" href=\"#\" onclick=\"return false;\">수상경력 와인 추천</a> </li> </ul> <form action=\"/wine/mine\" method=\"post\"> <input name=\"level\" type=\"hidden\" value=\"theme\"/> <input name=\"theme-apply\" type=\"hidden\"/> </form> </div> </div> </div> </div> <div class=\"btn_close\"> <a class=\"close\" href=\"#\" onclick=\"return false;\"> <img alt=\"Smart Search 닫기\" src=\"/images/common/img_smartsearch_close.png\"/> </a> </div> </div> </section> </div> <h2 class=\"hide_txt\">본문 영역</h2> <div id=\"container\"> <div class=\"sub_visual mywine\" id=\"visual\"> <div class=\"sub_visual_inner\"> <h2>My Wine</h2> <p>원하는 나만의 와인들을 한 눈에 보실 수 있습니다.</p> </div> </div> <div id=\"content\"> <div class=\"content_inner\"> <div class=\"location clfix\"> <ul class=\"location_list clfix\"> <li class=\"home\"> <a href=\"/\">HOME</a> </li> <li class=\"this\"> <strong>My Wine</strong> </li> </ul> </div> <form action=\"/wine/mine\" id=\"filter-form\" method=\"post\"> <div class=\"terrior_wrap\"> <div class=\"terrior\"> <h3> <span>Terroir</span>와인 조건 </h3> <h4>Wine Expert (와인 애호가)</h4> <div class=\"select_txt\"> <span>#1만원대 (0~2만원)</span> <span>#전체 국가</span> <span>#전체 와이너리</span> <span>#~20%</span> <span>#750ml</span> </div> <input name=\"price-apply\" type=\"hidden\" value=\"1\"/> <input name=\"country-apply\" type=\"hidden\" value=\"\"/> <input name=\"winery-apply\" type=\"hidden\" value=\"ON\"/> <input name=\"color-apply\" type=\"hidden\" value=\"\"/> <input name=\"sparkling-apply\" type=\"hidden\" value=\"\"/> <input name=\"sweet-apply\" type=\"hidden\" value=\"\"/> <input name=\"alcohol-apply\" type=\"hidden\" value=\"20\"/> <input name=\"volume-apply\" type=\"hidden\" value=\"750\"/> <input name=\"level\" type=\"hidden\" value=\"expert\"/> </div> </div> <input id=\"page-index\" name=\"page\" type=\"hidden\"/> <div class=\"bd_search\"> <p class=\"bd_total\">Total <strong>112</strong>건</p> <span class=\"mgr10\">정렬 방법 :</span> <div class=\"search_form\"> <span class=\"selectbox_wrap\" style=\"width:240px;\"> <select name=\"sort\" title=\"정렬 방법 선택\"> <option selected=\"selected\" value=\"NOTATION\">가나다순</option> <option value=\"RELEASE\">신상품순</option> <option value=\"COUNTRY\">국가 별</option> </select> </span> </div> <a class=\"btn_sch\" data-form=\"filter-form\" href=\"#\" id=\"btn-filter-do\" onclick=\"return false;\">이동</a> </div> </form> <div class=\"wine_list nohash\"> <ul class=\"clfix ui_best_over\"> <li> <div class=\"tags\"> <em class=\"flag s32\"> <img alt=\"italy\" src=\"/images/common/img_flag_italy.gif\"/> </em> <em class=\"tag type white\">White</em> </div> <div class=\"img\"> <img alt=\"2% 스위트 화이트\" src=\"/upload/products/wineList/italy/2SweetWhite.png\"/> </div> <strong class=\"tit _dotdotdot\" data-ellipse-height=\"70\">2% Sweet White</strong> <span class=\"tit\">2% 스위트 화이트</span> <div class=\"hashtag\"> #유럽와인 #이탈리아 #White #Sweet</div> <!--over--> <div class=\"bx_over\"> <h5 class=\"hide_txt\">와인정보</h5> <span class=\"tit\">2% 스위트 화이트</span> <div class=\"info\"> <p>품종 : 모스카토</p> <p>제조사 : 산테로</p> <p>원산지 : 이태리, 피에몬테, 아스티</p> <p>Color : 녹색빛이 도는 밝은 밀짚색</p> </div> <div class=\"btn_area\"> <a class=\"btn_line_type wh\" href=\"/wine/349\">view more <span class=\"ico\"></span> </a> </div> </div> </li> <li> <div class=\"tags\"> <em class=\"flag s32\"> <img alt=\"spain\" src=\"/images/common/img_flag_spain.gif\"/> </em> <em class=\"tag type red\">Red</em> </div> <div class=\"img\"> <img alt=\"그란 띠에라 레드\" src=\"/upload/products/wineList/spain/GranTierraRed.png\"/> </div> <strong class=\"tit _dotdotdot\" data-ellipse-height=\"70\">Gran Tierra Red</strong> <span class=\"tit\">그란 띠에라 레드</span> <div class=\"hashtag\"> #유럽와인 #스페인 #Red #Semi Sweet</div> <!--over--> <div class=\"bx_over\"> <h5 class=\"hide_txt\">와인정보</h5> <span class=\"tit\">그란 띠에라 레드</span> <div class=\"info\"> <p>품종 : 기타</p> <p>제조사 : Felix Solis</p> <p>원산지 : 스페인, 발데빼냐스</p> <p>Color : 바이올렛의 컬러가 살짝 감도는 반짝이는 루비색</p> </div> <div class=\"btn_area\"> <a class=\"btn_line_type wh\" href=\"/wine/240\">view more <span class=\"ico\"></span> </a> </div> </div> </li> <li> <div class=\"tags\"> <em class=\"flag s32\"> <img alt=\"spain\" src=\"/images/common/img_flag_spain.gif\"/> </em> <em class=\"tag type white\">White</em> </div> <div class=\"img\"> <img alt=\"그란 띠에라 화이트\" src=\"/upload/products/wineList/spain/GranTierraWhite.png\"/> </div> <strong class=\"tit _dotdotdot\" data-ellipse-height=\"70\">Gran Tierra White</strong> <span class=\"tit\">그란 띠에라 화이트</span> <div class=\"hashtag\"> #유럽와인 #스페인 #White #Semi Sweet</div> <!--over--> <div class=\"bx_over\"> <h5 class=\"hide_txt\">와인정보</h5> <span class=\"tit\">그란 띠에라 화이트</span> <div class=\"info\"> <p>품종 : 기타</p> <p>제조사 : Felix Solis</p> <p>원산지 : 스페인, 발데빼냐스</p> <p>Color : 신선한 레몬칼라</p> </div> <div class=\"btn_area\"> <a class=\"btn_line_type wh\" href=\"/wine/241\">view more <span class=\"ico\"></span> </a> </div> </div> </li> <li> <div class=\"tags\"> <em class=\"flag s32\"> <img alt=\"france\" src=\"/images/common/img_flag_france.gif\"/> </em> <em class=\"tag type red\">Red</em> </div> <div class=\"img\"> <img alt=\"까버네 소비뇽\" src=\"/upload/products/wineList/france/HOBNOBCabernetSauvignon.png\"/> </div> <strong class=\"tit _dotdotdot\" data-ellipse-height=\"70\">HOBNOB Cabernet Sauvignon</strong> <span class=\"tit\">까버네 소비뇽</span> <div class=\"hashtag\"> #유럽와인 #프랑스 #Red #Dry</div> <!--over--> <div class=\"bx_over\"> <h5 class=\"hide_txt\">와인정보</h5> <span class=\"tit\">까버네 소비뇽</span> <div class=\"info\"> <p>품종 : 카버네 소비뇽</p> <p>제조사 : 홉노브</p> <p>원산지 : 프랑스, 랑귀독</p> <p>Color : 짙은 루비빛</p> </div> <div class=\"btn_area\"> <a class=\"btn_line_type wh\" href=\"/wine/449\">view more <span class=\"ico\"></span> </a> </div> </div> </li> <li> <div class=\"tags\"> <em class=\"flag s32\"> <img alt=\"france\" src=\"/images/common/img_flag_france.gif\"/> </em> <em class=\"tag type white\">White</em> </div> <div class=\"img\"> <img alt=\"꾸베 스페설 블랑\" src=\"/upload/products/wineList/france/Cuvee_Special_Blanc.png\"/> </div> <strong class=\"tit _dotdotdot\" data-ellipse-height=\"70\">Cuvee Special Blanc</strong> <span class=\"tit\">꾸베 스페설 블랑</span> <div class=\"hashtag\"> #유럽와인 #프랑스 #White #Dry</div> <!--over--> <div class=\"bx_over\"> <h5 class=\"hide_txt\">와인정보</h5> <span class=\"tit\">꾸베 스페설 블랑</span> <div class=\"info\"> <p>품종 : 기타</p> <p>제조사 : Barton &amp; Guestier</p> <p>원산지 : 프랑스, 스페인</p> <p>Color : 밝은 볏짚색</p> </div> <div class=\"btn_area\"> <a class=\"btn_line_type wh\" href=\"/wine/579\">view more <span class=\"ico\"></span> </a> </div> </div> </li> <li> <div class=\"tags\"> <em class=\"flag s32\"> <img alt=\"france\" src=\"/images/common/img_flag_france.gif\"/> </em> <em class=\"tag type red\">Red</em> </div> <div class=\"img\"> <img alt=\"꾸베 스페셜 루즈\" src=\"/upload/products/wineList/france/Cuvee_Special_Rouge.png\"/> </div> <strong class=\"tit _dotdotdot\" data-ellipse-height=\"70\">Cuvee Special Rouge</strong> <span class=\"tit\">꾸베 스페셜 루즈</span> <div class=\"hashtag\"> #유럽와인 #프랑스 #Red #Dry</div> <!--over--> <div class=\"bx_over\"> <h5 class=\"hide_txt\">와인정보</h5> <span class=\"tit\">꾸베 스페셜 루즈</span> <div class=\"info\"> <p>품종 : 기타</p> <p>제조사 : Barton &amp; Guestier</p> <p>원산지 : 프랑스, 스페인</p> <p>Color : 짙은 루비색</p> </div> <div class=\"btn_area\"> <a class=\"btn_line_type wh\" href=\"/wine/578\">view more <span class=\"ico\"></span> </a> </div> </div> </li> <li> <div class=\"tags\"> <em class=\"flag s32\"> <img alt=\"usa\" src=\"/images/common/img_flag_usa.gif\"/> </em> <em class=\"tag type white\">White</em> </div> <div class=\"img\"> <img alt=\"다크호스 샤도네이\" src=\"/upload/products/wineList/america/20170328103646390.png\"/> </div> <strong class=\"tit _dotdotdot\" data-ellipse-height=\"70\">The Original DARKHORSE Chardonnay</strong> <span class=\"tit\">다크호스 샤도네이</span> <div class=\"hashtag\"> #신대륙와인 #미국 #White #Dry</div> <!--over--> <div class=\"bx_over\"> <h5 class=\"hide_txt\">와인정보</h5> <span class=\"tit\">다크호스 샤도네이</span> <div class=\"info\"> <p>품종 : 샤도네이</p> <p>제조사 : Dark Horse</p> <p>원산지 : 미국, 캘리포니아</p> <p>Color : 밝은 황금색</p> </div> <div class=\"btn_area\"> <a class=\"btn_line_type wh\" href=\"/wine/633\">view more <span class=\"ico\"></span> </a> </div> </div> </li> <li> <div class=\"tags\"> <em class=\"flag s32\"> <img alt=\"usa\" src=\"/images/common/img_flag_usa.gif\"/> </em> <em class=\"tag type red\">Red</em> </div> <div class=\"img\"> <img alt=\"다크호스 카버네 소비뇽\" src=\"/upload/products/wineList/america/20170328110746070.png\"/> </div> <strong class=\"tit _dotdotdot\" data-ellipse-height=\"70\">The Original DARKHORSE Cabernet Sauvignon</strong> <span class=\"tit\">다크호스 카버네 소비뇽</span> <div class=\"hashtag\"> #신대륙와인 #미국 #Red #Dry</div> <!--over--> <div class=\"bx_over\"> <h5 class=\"hide_txt\">와인정보</h5> <span class=\"tit\">다크호스 카버네 소비뇽</span> <div class=\"info\"> <p>품종 : 카버네 소비뇽</p> <p>제조사 : Dark Horse</p> <p>원산지 : 미국, 캘리포니아</p> <p>Color : 진한 자주빛의 붉은 색</p> </div> <div class=\"btn_area\"> <a class=\"btn_line_type wh\" href=\"/wine/634\">view more <span class=\"ico\"></span> </a> </div> </div> </li> <li> <div class=\"tags\"> <em class=\"flag s32\"> <img alt=\"chile\" src=\"/images/common/img_flag_chile.gif\"/> </em> <em class=\"tag type red\">Red</em> </div> <div class=\"img\"> <img alt=\"라마리나\" src=\"/upload/products/wineList/chile/LaMarina.png\"/> </div> <strong class=\"tit _dotdotdot\" data-ellipse-height=\"70\">La Marina</strong> <span class=\"tit\">라마리나</span> <div class=\"hashtag\"> #신대륙와인 #칠레 #Red #Sweet</div> <!--over--> <div class=\"bx_over\"> <h5 class=\"hide_txt\">와인정보</h5> <span class=\"tit\">라마리나</span> <div class=\"info\"> <p>품종 : 카버네 소비뇽</p> <p>제조사 : Balduzzi</p> <p>원산지 : 칠레, 마울레밸리(Maule Valley)</p> <p>Color : 짙은 루비 빛</p> </div> <div class=\"btn_area\"> <a class=\"btn_line_type wh\" href=\"/wine/127\">view more <span class=\"ico\"></span> </a> </div> </div> </li> <li> <div class=\"tags\"> <em class=\"flag s32\"> <img alt=\"spain\" src=\"/images/common/img_flag_spain.gif\"/> </em> <em class=\"tag type white\">White</em> </div> <div class=\"img\"> <img alt=\"로또\" src=\"/upload/products/wineList/spain/Loto.png\"/> </div> <strong class=\"tit _dotdotdot\" data-ellipse-height=\"70\">Loto</strong> <span class=\"tit\">로또</span> <div class=\"hashtag\"> #유럽와인 #스페인 #White #Semi Sweet</div> <!--over--> <div class=\"bx_over\"> <h5 class=\"hide_txt\">와인정보</h5> <span class=\"tit\">로또</span> <div class=\"info\"> <p>품종 : 기타</p> <p>제조사 : Felix Solis</p> <p>원산지 : 스페인, 발데빼냐스</p> <p>Color : 바이올렛의 컬러가 살짝 감도는 반짝이는 루비색</p> </div> <div class=\"btn_area\"> <a class=\"btn_line_type wh\" href=\"/wine/242\">view more <span class=\"ico\"></span> </a> </div> </div> </li> <li> <div class=\"tags\"> <em class=\"flag s32\"> <img alt=\"spain\" src=\"/images/common/img_flag_spain.gif\"/> </em> <em class=\"tag type red\">Red</em> </div> <div class=\"img\"> <img alt=\"로스 몰리노스 템프라니요\" src=\"/upload/products/wineList/spain/LosMolinosTempranillo.png\"/> </div> <strong class=\"tit _dotdotdot\" data-ellipse-height=\"70\">Los Molinos Tempranillo</strong> <span class=\"tit\">로스 몰리노스 템프라니요</span> <div class=\"hashtag\"> #유럽와인 #스페인 #Red #Dry</div> <!--over--> <div class=\"bx_over\"> <h5 class=\"hide_txt\">와인정보</h5> <span class=\"tit\">로스 몰리노스 템프라니요</span> <div class=\"info\"> <p>품종 : 기타</p> <p>제조사 : Felix Solis</p> <p>원산지 : 스페인, 발데빼냐스</p> <p>Color : 짙은 루비 레드 칼라</p> </div> <div class=\"btn_area\"> <a class=\"btn_line_type wh\" href=\"/wine/246\">view more <span class=\"ico\"></span> </a> </div> </div> </li> <li> <div class=\"tags\"> <em class=\"flag s32\"> <img alt=\"usa\" src=\"/images/common/img_flag_usa.gif\"/> </em> <em class=\"tag type red\">Red</em> </div> <div class=\"img\"> <img alt=\"루이 마티니 나파 벨리 카버네 소비뇽\" src=\"/upload/products/wineList/america/20170328114625807.png\"/> </div> <strong class=\"tit _dotdotdot\" data-ellipse-height=\"70\">Louis M. Martini Napa Valley Cabernet Sauvignon</strong> <span class=\"tit\">루이 마티니 나파 벨리 카버네 소비뇽</span> <div class=\"hashtag\"> #신대륙와인 #미국 #Red #Dry</div> <!--over--> <div class=\"bx_over\"> <h5 class=\"hide_txt\">와인정보</h5> <span class=\"tit\">루이 마티니 나파 벨리 카버네 소비뇽</span> <div class=\"info\"> <p>품종 : 카버네 소비뇽, 기타</p> <p>제조사 : Louis.M.Martini</p> <p>원산지 : 미국, 캘리포니아, 나파 밸리</p> <p>Color : 진한 버건디 색상</p> </div> <div class=\"btn_area\"> <a class=\"btn_line_type wh\" href=\"/wine/638\">view more <span class=\"ico\"></span> </a> </div> </div> </li> </ul> </div> <div class=\"pagination\" data-per-page=\"12\" data-total=\"112\"><a class=\"direction first disabled\" data-page=\"1\" href=\"#\" onclick=\"return false;\">첫 페이지</a> <a class=\"direction pre disabled\" data-page=\"1\" href=\"#\" onclick=\"return false;\">이전 페이지</a> <strong class=\"crrunt\">1</strong> <a data-page=\"2\" href=\"#\" onclick=\"return false;\">2</a> <a data-page=\"3\" href=\"#\" onclick=\"return false;\">3</a> <a data-page=\"4\" href=\"#\" onclick=\"return false;\">4</a> <a data-page=\"5\" href=\"#\" onclick=\"return false;\">5</a> <a data-page=\"6\" href=\"#\" onclick=\"return false;\">6</a> <a data-page=\"7\" href=\"#\" onclick=\"return false;\">7</a> <a data-page=\"8\" href=\"#\" onclick=\"return false;\">8</a> <a data-page=\"9\" href=\"#\" onclick=\"return false;\">9</a> <a data-page=\"10\" href=\"#\" onclick=\"return false;\">10</a> <a class=\"direction next\" data-page=\"2\" href=\"#\" onclick=\"return false;\">다음 페이지</a> <a class=\"direction last\" data-page=\"10\" href=\"#\" onclick=\"return false;\">마지막 페이지</a></div> </div> </div> </div> <h2 class=\"hide_txt\">하단 영역</h2> <div id=\"footer\"> <div class=\"footer_content\"> <div class=\"footer_content_inner clfix\"> <div class=\"area_left\"> <div class=\"logo\"> <img alt=\"롯데주류\" src=\"/images/common/foot_logo.png\"> </img></div> <p class=\"address\">서울특별시 송파구 올림픽로 269 롯데캐슬골드</p> <p class=\"copyright\">COPYRIGHT© LOTTE CHILSUNG BEVERAGE CO.,LTD. ALL RIGHTS RESERVED.</p> </div> <div class=\"area_right\"> <div class=\"sns\"> <a class=\"fb\" href=\"https://www.facebook.com/LotteWine\" target=\"_blank\"> <span class=\"hide_txt\">facebook 새 창</span> </a> <a class=\"insta\" href=\"https://www.instagram.com/lottewine\" target=\"_blank\"> <span class=\"hide_txt\">instagram 새 창</span> </a> <!-- <a href=\"http://www.webwatch.or.kr/Situation/WA_Situation.html?MenuCD=110\" target=\"_blank\" title=\"새창\" class=\"wah\"> <img src=\"/images/common/img_logo_wah.png\" alt=\"웹 접근성 인증마크\" /> </a> --> </div> <div class=\"sites ui_brand\"> <a href=\"/\">BRAND SITE <span class=\"hide_txt\">펼치기</span> </a> <div class=\"site_list\"> <ul class=\"clfix\"> <!-- <li> <a href=\"http://www.lotteliquor.com/about/intro.asp\" target=\"_blank\">롯데주류 <span class=\"hide_txt\">새 창</span> </a> </li> --> <li> <a href=\"http://www.lotteliquor.com/brand/soju07_01.asp\" target=\"_blank\">처음처럼 <span class=\"hide_txt\">새 창</span> </a> </li> <li> <a href=\"http://www.lotteliquor.com/brand/cheongju06_01.asp\" target=\"_blank\">청하 <span class=\"hide_txt\">새 창</span> </a> </li> <li> <a href=\"http://www.lotteliquor.com/brand/cheongju05_01.asp\" target=\"_blank\">청주 <span class=\"hide_txt\">새 창</span> </a> </li> <li> <a href=\"http://www.lotteliquor.com/brand/fruit03_01.asp\" target=\"_blank\">설중매 <span class=\"hide_txt\">새 창</span> </a> </li> </ul> <a class=\"close\" href=\"/\"> <span class=\"hide_txt\">BRAND SITE 접기</span> </a> </div> </div> </div> </div> </div> </div> </div> </body> <script type=\"text/javascript\"> $(document).ready(function() { (function(i,s,o,g,r,a,m){i['GoogleAnalyticsObject']=r;i[r]=i[r]||function(){ (i[r].q=i[r].q||[]).push(arguments)},i[r].l=1*new Date();a=s.createElement(o), m=s.getElementsByTagName(o)[0];a.async=1;a.src=g;m.parentNode.insertBefore(a,m) })(window,document,'script','https://www.google-analytics.com/analytics.js','ga'); ga('create', 'UA-81495922-1', 'auto'); ga('send', 'pageview'); }); // lottewine16@gmail.com </script> </html>"
      ]
     },
     "execution_count": 5,
     "metadata": {},
     "output_type": "execute_result"
    }
   ],
   "source": [
    "get_document(1, 1, 20)"
   ]
  },
  {
   "cell_type": "code",
   "execution_count": null,
   "metadata": {},
   "outputs": [],
   "source": []
  },
  {
   "cell_type": "code",
   "execution_count": 176,
   "metadata": {},
   "outputs": [],
   "source": [
    "def get_page():\n",
    "    colors = ['rose', 'red', 'white']\n",
    "    price_range = [1,3,5,10,15]\n",
    "    url = 'http://www.wine.co.kr/wine/mine'\n",
    "    last_pages = []\n",
    "    for color in colors:\n",
    "        for price in price_range:\n",
    "            params = {\n",
    "                'level': 'expert',\n",
    "                'price-apply': price,\n",
    "                'country-apply': \"\",\n",
    "                'winery-apply': 'on',\n",
    "                \"color-apply\": color,\n",
    "                'sparkling-apply': \"\",\n",
    "                'sweet_apply': \"\",\n",
    "                'alcohol-apply': 20,\n",
    "                'volume-apply': 750,\n",
    "                'page': 1\n",
    "            }\n",
    "            response = requests.post(url, params)\n",
    "            dom = BeautifulSoup(response.content, 'html.parser')\n",
    "            try:\n",
    "                last_page = dom.select('#content > div > div.pagination > a.direction.last')[0].get('data-page')\n",
    "                last_pages.append(last_page)\n",
    "            except:\n",
    "                continue\n",
    "    return last_pages\n",
    "\n",
    "def get_links():\n",
    "    pages, price_range = [10, 6, 12, 5, 7], [1,3,5,10,15]\n",
    "    datas = []\n",
    "    for price in price_range:\n",
    "        for page in pages:\n",
    "            for idx in list(range(1,int(page)+1)):\n",
    "                url = 'http://www.wine.co.kr/wine/mine?p={}'.format(idx)\n",
    "                params = {\n",
    "                    'level': 'expert',\n",
    "                    'price-apply': price,\n",
    "                    'country-apply': \"\",\n",
    "                    'winery-apply': 'on',\n",
    "                    \"color-apply\": \"\",\n",
    "                    'sparkling-apply': \"\",\n",
    "                    'sweet_apply': \"\",\n",
    "                    'alcohol-apply': 20,\n",
    "                    'volume-apply': 750,\n",
    "                    'page': idx\n",
    "                    }\n",
    "                # 개별 상품 코드 링크\n",
    "                links = dom.select(\"#content > div > div.wine_list.nohash > ul > li > div.bx_over > div.btn_area > a\")\n",
    "                for link in links:\n",
    "                    link = 'wine.co.kr' + link.get('href')\n",
    "                    datas.append({'link': link})\n",
    "    return datas"
   ]
  },
  {
   "cell_type": "code",
   "execution_count": null,
   "metadata": {},
   "outputs": [],
   "source": [
    "colors = ['rose', 'red', 'white']\n",
    "price_range = [1,3,5,10,15]\n",
    "url = 'http://www.wine.co.kr/wine/mine?p=1'\n",
    "params = {\n",
    "    'level': 'expert',\n",
    "    'price-apply': 10,\n",
    "    'country-apply': \"\",\n",
    "    'winery-apply': 'on',\n",
    "    \"color-apply\": 'rose',\n",
    "    'sparkling-apply': \"\",\n",
    "    'sweet_apply': \"\",\n",
    "    'alcohol-apply': 20,\n",
    "    'volume-apply': 750,\n",
    "    'page': 1\n",
    "}\n",
    "response = requests.post(url, params)\n",
    "dom = BeautifulSoup(response.content, 'html.parser')\n",
    "last_page = dom.select('#content > div > div.pagination > a.direction.last')[0].get('data-page')\n",
    "last_page"
   ]
  },
  {
   "cell_type": "code",
   "execution_count": 143,
   "metadata": {
    "scrolled": true
   },
   "outputs": [
    {
     "data": {
      "text/plain": [
       "'7'"
      ]
     },
     "execution_count": 143,
     "metadata": {},
     "output_type": "execute_result"
    }
   ],
   "source": [
    "response = requests.post(url, params)\n",
    "dom = BeautifulSoup(response.content, 'html.parser')\n",
    "last_page = dom.select('#content > div > div.pagination > a.direction.last')[0].get('data-page')\n",
    "last_page"
   ]
  },
  {
   "cell_type": "code",
   "execution_count": null,
   "metadata": {},
   "outputs": [],
   "source": [
    "class=\"direction last \""
   ]
  },
  {
   "cell_type": "code",
   "execution_count": 110,
   "metadata": {},
   "outputs": [
    {
     "data": {
      "text/plain": [
       "'43'"
      ]
     },
     "execution_count": 110,
     "metadata": {},
     "output_type": "execute_result"
    }
   ],
   "source": [
    "dom.select('#content > div > div.pagination > a')[-1].get('data-page')"
   ]
  },
  {
   "cell_type": "code",
   "execution_count": 177,
   "metadata": {
    "scrolled": false
   },
   "outputs": [
    {
     "data": {
      "text/plain": [
       "['1',\n",
       " '43',\n",
       " '43',\n",
       " '43',\n",
       " '43',\n",
       " '43',\n",
       " '43',\n",
       " '43',\n",
       " '43',\n",
       " '43',\n",
       " '43',\n",
       " '43',\n",
       " '43',\n",
       " '43',\n",
       " '43']"
      ]
     },
     "execution_count": 177,
     "metadata": {},
     "output_type": "execute_result"
    }
   ],
   "source": [
    "# 계속 돌리면 바뀐다\n",
    "get_page()"
   ]
  },
  {
   "cell_type": "code",
   "execution_count": 171,
   "metadata": {},
   "outputs": [
    {
     "data": {
      "text/plain": [
       "[10, 6, 12, 5, 7]"
      ]
     },
     "execution_count": 171,
     "metadata": {},
     "output_type": "execute_result"
    }
   ],
   "source": [
    "# 전체 데이터를 일일히 봤을때 페이지 카운트 수\n",
    "[10, 6, 12, 5, 7]"
   ]
  },
  {
   "cell_type": "code",
   "execution_count": 100,
   "metadata": {
    "scrolled": true
   },
   "outputs": [
    {
     "name": "stdout",
     "output_type": "stream",
     "text": [
      "wine.co.kr/wine/349\n",
      "wine.co.kr/wine/240\n",
      "wine.co.kr/wine/241\n",
      "wine.co.kr/wine/477\n",
      "wine.co.kr/wine/449\n",
      "wine.co.kr/wine/161\n",
      "wine.co.kr/wine/162\n",
      "wine.co.kr/wine/160\n",
      "wine.co.kr/wine/166\n",
      "wine.co.kr/wine/326\n",
      "wine.co.kr/wine/324\n",
      "wine.co.kr/wine/413\n"
     ]
    }
   ],
   "source": [
    "links = dom.select(\"#content > div > div.wine_list.nohash > ul > li > div.bx_over > div.btn_area > a\")\n",
    "for link in links:\n",
    "    link = 'wine.co.kr' + link.get('href')\n",
    "    print(link)"
   ]
  },
  {
   "cell_type": "code",
   "execution_count": 136,
   "metadata": {},
   "outputs": [
    {
     "data": {
      "text/plain": [
       "2400"
      ]
     },
     "execution_count": 136,
     "metadata": {},
     "output_type": "execute_result"
    }
   ],
   "source": [
    "x = get_links()\n",
    "len(x)"
   ]
  },
  {
   "cell_type": "code",
   "execution_count": 137,
   "metadata": {},
   "outputs": [],
   "source": [
    "df = pd.DataFrame(x)"
   ]
  },
  {
   "cell_type": "code",
   "execution_count": 138,
   "metadata": {},
   "outputs": [
    {
     "data": {
      "text/plain": [
       "wine.co.kr/wine/326    200\n",
       "wine.co.kr/wine/241    200\n",
       "wine.co.kr/wine/349    200\n",
       "wine.co.kr/wine/449    200\n",
       "wine.co.kr/wine/477    200\n",
       "wine.co.kr/wine/161    200\n",
       "wine.co.kr/wine/413    200\n",
       "wine.co.kr/wine/240    200\n",
       "wine.co.kr/wine/324    200\n",
       "wine.co.kr/wine/166    200\n",
       "wine.co.kr/wine/160    200\n",
       "wine.co.kr/wine/162    200\n",
       "Name: link, dtype: int64"
      ]
     },
     "execution_count": 138,
     "metadata": {},
     "output_type": "execute_result"
    }
   ],
   "source": [
    "df.link.value_counts()"
   ]
  }
 ],
 "metadata": {
  "kernelspec": {
   "display_name": "Python 3",
   "language": "python",
   "name": "python3"
  },
  "language_info": {
   "codemirror_mode": {
    "name": "ipython",
    "version": 3
   },
   "file_extension": ".py",
   "mimetype": "text/x-python",
   "name": "python",
   "nbconvert_exporter": "python",
   "pygments_lexer": "ipython3",
   "version": "3.7.6"
  },
  "toc": {
   "base_numbering": 1,
   "nav_menu": {},
   "number_sections": true,
   "sideBar": true,
   "skip_h1_title": false,
   "title_cell": "Table of Contents",
   "title_sidebar": "Contents",
   "toc_cell": false,
   "toc_position": {},
   "toc_section_display": true,
   "toc_window_display": false
  }
 },
 "nbformat": 4,
 "nbformat_minor": 4
}
